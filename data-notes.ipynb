{
 "cells": [
  {
   "cell_type": "markdown",
   "metadata": {},
   "source": [
    "# General notes about the data set"
   ]
  },
  {
   "cell_type": "code",
   "execution_count": 1,
   "metadata": {},
   "outputs": [],
   "source": [
    "import numpy as np\n",
    "import pandas as pd\n",
    "%matplotlib inline\n",
    "import matplotlib.pyplot as plt\n",
    "from jupyterthemes import jtplot\n",
    "jtplot.style(theme='onedork', context='notebook')"
   ]
  },
  {
   "cell_type": "markdown",
   "metadata": {},
   "source": [
    "## Potentially unuseful columns\n",
    "There are some general metadata columns about the images that are not interesting for display, these include the image width, height, the pixel spacing, and the image identifier (\"Image Index\")."
   ]
  },
  {
   "cell_type": "code",
   "execution_count": 2,
   "metadata": {},
   "outputs": [
    {
     "data": {
      "text/html": [
       "<div>\n",
       "<style scoped>\n",
       "    .dataframe tbody tr th:only-of-type {\n",
       "        vertical-align: middle;\n",
       "    }\n",
       "\n",
       "    .dataframe tbody tr th {\n",
       "        vertical-align: top;\n",
       "    }\n",
       "\n",
       "    .dataframe thead th {\n",
       "        text-align: right;\n",
       "    }\n",
       "</style>\n",
       "<table border=\"1\" class=\"dataframe\">\n",
       "  <thead>\n",
       "    <tr style=\"text-align: right;\">\n",
       "      <th></th>\n",
       "      <th>Finding Labels</th>\n",
       "      <th>Follow-up #</th>\n",
       "      <th>Patient ID</th>\n",
       "      <th>Patient Age</th>\n",
       "      <th>Patient Gender</th>\n",
       "      <th>View Position</th>\n",
       "    </tr>\n",
       "  </thead>\n",
       "  <tbody>\n",
       "    <tr>\n",
       "      <th>0</th>\n",
       "      <td>Cardiomegaly</td>\n",
       "      <td>0</td>\n",
       "      <td>1</td>\n",
       "      <td>58</td>\n",
       "      <td>M</td>\n",
       "      <td>PA</td>\n",
       "    </tr>\n",
       "    <tr>\n",
       "      <th>1</th>\n",
       "      <td>Cardiomegaly|Emphysema</td>\n",
       "      <td>1</td>\n",
       "      <td>1</td>\n",
       "      <td>58</td>\n",
       "      <td>M</td>\n",
       "      <td>PA</td>\n",
       "    </tr>\n",
       "    <tr>\n",
       "      <th>2</th>\n",
       "      <td>Cardiomegaly|Effusion</td>\n",
       "      <td>2</td>\n",
       "      <td>1</td>\n",
       "      <td>58</td>\n",
       "      <td>M</td>\n",
       "      <td>PA</td>\n",
       "    </tr>\n",
       "    <tr>\n",
       "      <th>3</th>\n",
       "      <td>No Finding</td>\n",
       "      <td>0</td>\n",
       "      <td>2</td>\n",
       "      <td>81</td>\n",
       "      <td>M</td>\n",
       "      <td>PA</td>\n",
       "    </tr>\n",
       "    <tr>\n",
       "      <th>4</th>\n",
       "      <td>Hernia</td>\n",
       "      <td>0</td>\n",
       "      <td>3</td>\n",
       "      <td>81</td>\n",
       "      <td>F</td>\n",
       "      <td>PA</td>\n",
       "    </tr>\n",
       "    <tr>\n",
       "      <th>5</th>\n",
       "      <td>Hernia</td>\n",
       "      <td>1</td>\n",
       "      <td>3</td>\n",
       "      <td>74</td>\n",
       "      <td>F</td>\n",
       "      <td>PA</td>\n",
       "    </tr>\n",
       "    <tr>\n",
       "      <th>6</th>\n",
       "      <td>Hernia</td>\n",
       "      <td>2</td>\n",
       "      <td>3</td>\n",
       "      <td>75</td>\n",
       "      <td>F</td>\n",
       "      <td>PA</td>\n",
       "    </tr>\n",
       "    <tr>\n",
       "      <th>7</th>\n",
       "      <td>Hernia|Infiltration</td>\n",
       "      <td>3</td>\n",
       "      <td>3</td>\n",
       "      <td>76</td>\n",
       "      <td>F</td>\n",
       "      <td>PA</td>\n",
       "    </tr>\n",
       "    <tr>\n",
       "      <th>8</th>\n",
       "      <td>Hernia</td>\n",
       "      <td>4</td>\n",
       "      <td>3</td>\n",
       "      <td>77</td>\n",
       "      <td>F</td>\n",
       "      <td>PA</td>\n",
       "    </tr>\n",
       "    <tr>\n",
       "      <th>9</th>\n",
       "      <td>Hernia</td>\n",
       "      <td>5</td>\n",
       "      <td>3</td>\n",
       "      <td>78</td>\n",
       "      <td>F</td>\n",
       "      <td>PA</td>\n",
       "    </tr>\n",
       "    <tr>\n",
       "      <th>10</th>\n",
       "      <td>Hernia</td>\n",
       "      <td>6</td>\n",
       "      <td>3</td>\n",
       "      <td>79</td>\n",
       "      <td>F</td>\n",
       "      <td>PA</td>\n",
       "    </tr>\n",
       "    <tr>\n",
       "      <th>11</th>\n",
       "      <td>Hernia</td>\n",
       "      <td>7</td>\n",
       "      <td>3</td>\n",
       "      <td>80</td>\n",
       "      <td>F</td>\n",
       "      <td>PA</td>\n",
       "    </tr>\n",
       "    <tr>\n",
       "      <th>12</th>\n",
       "      <td>Mass|Nodule</td>\n",
       "      <td>0</td>\n",
       "      <td>4</td>\n",
       "      <td>82</td>\n",
       "      <td>M</td>\n",
       "      <td>AP</td>\n",
       "    </tr>\n",
       "    <tr>\n",
       "      <th>13</th>\n",
       "      <td>No Finding</td>\n",
       "      <td>0</td>\n",
       "      <td>5</td>\n",
       "      <td>69</td>\n",
       "      <td>F</td>\n",
       "      <td>PA</td>\n",
       "    </tr>\n",
       "    <tr>\n",
       "      <th>14</th>\n",
       "      <td>No Finding</td>\n",
       "      <td>1</td>\n",
       "      <td>5</td>\n",
       "      <td>69</td>\n",
       "      <td>F</td>\n",
       "      <td>AP</td>\n",
       "    </tr>\n",
       "    <tr>\n",
       "      <th>15</th>\n",
       "      <td>No Finding</td>\n",
       "      <td>2</td>\n",
       "      <td>5</td>\n",
       "      <td>69</td>\n",
       "      <td>F</td>\n",
       "      <td>AP</td>\n",
       "    </tr>\n",
       "    <tr>\n",
       "      <th>16</th>\n",
       "      <td>No Finding</td>\n",
       "      <td>3</td>\n",
       "      <td>5</td>\n",
       "      <td>69</td>\n",
       "      <td>F</td>\n",
       "      <td>PA</td>\n",
       "    </tr>\n",
       "    <tr>\n",
       "      <th>17</th>\n",
       "      <td>No Finding</td>\n",
       "      <td>4</td>\n",
       "      <td>5</td>\n",
       "      <td>70</td>\n",
       "      <td>F</td>\n",
       "      <td>PA</td>\n",
       "    </tr>\n",
       "    <tr>\n",
       "      <th>18</th>\n",
       "      <td>No Finding</td>\n",
       "      <td>5</td>\n",
       "      <td>5</td>\n",
       "      <td>70</td>\n",
       "      <td>F</td>\n",
       "      <td>PA</td>\n",
       "    </tr>\n",
       "    <tr>\n",
       "      <th>19</th>\n",
       "      <td>Infiltration</td>\n",
       "      <td>6</td>\n",
       "      <td>5</td>\n",
       "      <td>70</td>\n",
       "      <td>F</td>\n",
       "      <td>PA</td>\n",
       "    </tr>\n",
       "  </tbody>\n",
       "</table>\n",
       "</div>"
      ],
      "text/plain": [
       "            Finding Labels  Follow-up #  Patient ID  Patient Age  \\\n",
       "0             Cardiomegaly            0           1           58   \n",
       "1   Cardiomegaly|Emphysema            1           1           58   \n",
       "2    Cardiomegaly|Effusion            2           1           58   \n",
       "3               No Finding            0           2           81   \n",
       "4                   Hernia            0           3           81   \n",
       "5                   Hernia            1           3           74   \n",
       "6                   Hernia            2           3           75   \n",
       "7      Hernia|Infiltration            3           3           76   \n",
       "8                   Hernia            4           3           77   \n",
       "9                   Hernia            5           3           78   \n",
       "10                  Hernia            6           3           79   \n",
       "11                  Hernia            7           3           80   \n",
       "12             Mass|Nodule            0           4           82   \n",
       "13              No Finding            0           5           69   \n",
       "14              No Finding            1           5           69   \n",
       "15              No Finding            2           5           69   \n",
       "16              No Finding            3           5           69   \n",
       "17              No Finding            4           5           70   \n",
       "18              No Finding            5           5           70   \n",
       "19            Infiltration            6           5           70   \n",
       "\n",
       "   Patient Gender View Position  \n",
       "0               M            PA  \n",
       "1               M            PA  \n",
       "2               M            PA  \n",
       "3               M            PA  \n",
       "4               F            PA  \n",
       "5               F            PA  \n",
       "6               F            PA  \n",
       "7               F            PA  \n",
       "8               F            PA  \n",
       "9               F            PA  \n",
       "10              F            PA  \n",
       "11              F            PA  \n",
       "12              M            AP  \n",
       "13              F            PA  \n",
       "14              F            AP  \n",
       "15              F            AP  \n",
       "16              F            PA  \n",
       "17              F            PA  \n",
       "18              F            PA  \n",
       "19              F            PA  "
      ]
     },
     "execution_count": 2,
     "metadata": {},
     "output_type": "execute_result"
    }
   ],
   "source": [
    "data = pd.read_csv(\"dataset/Data_Entry_2017.csv\")\n",
    "data.drop(['Image Index', 'Image Width', 'Image Height', 'Spacing X', 'Spacing Y'], axis=1).head(20)"
   ]
  },
  {
   "cell_type": "markdown",
   "metadata": {},
   "source": [
    "### Age outliers\n",
    "There are some values with age > 100, obviously a mistake, that need to be removed from the data. Besides this, age seems to follow a normal distribution with mean age of 46.87"
   ]
  },
  {
   "cell_type": "code",
   "execution_count": 3,
   "metadata": {},
   "outputs": [
    {
     "name": "stdout",
     "output_type": "stream",
     "text": [
      "Mean age of patients: 46.872573681581386\n"
     ]
    },
    {
     "data": {
      "image/png": "[encoded data removed]",
      "text/plain": [
       "<Figure size 576x504 with 1 Axes>"
      ]
     },
     "metadata": {},
     "output_type": "display_data"
    }
   ],
   "source": [
    "clean_data = data[data[\"Patient Age\"] < 100]\n",
    "print(f\"\"\"Mean age of patients: {clean_data[\"Patient Age\"].mean()}\"\"\")\n",
    "clean_data[\"Patient Age\"].plot.hist(bins=20);"
   ]
  },
  {
   "cell_type": "markdown",
   "metadata": {},
   "source": [
    "### Finding label\n",
    "The `Finding Labels` column contains 1 to many possible labels that need to be split and encoded for each row. This might be easily done with sklearn [`One Hot Encoder`](https://scikit-learn.org/stable/modules/generated/sklearn.preprocessing.OneHotEncoder.html) or may have to be performed imperatively:"
   ]
  },
  {
   "cell_type": "code",
   "execution_count": 4,
   "metadata": {},
   "outputs": [
    {
     "name": "stdout",
     "output_type": "stream",
     "text": [
      "All labels:\n",
      "1. Pneumothorax\n",
      "2. Infiltration\n",
      "3. Consolidation\n",
      "4. Pleural_Thickening\n",
      "5. Emphysema\n",
      "6. Hernia\n",
      "7. Cardiomegaly\n",
      "8. Edema\n",
      "9. Mass\n",
      "10. Nodule\n",
      "11. Pneumonia\n",
      "12. No Finding\n",
      "13. Atelectasis\n",
      "14. Effusion\n",
      "15. Fibrosis\n",
      "Total labels: 15\n"
     ]
    }
   ],
   "source": [
    "label_set = set()\n",
    "for labels in pd.unique(clean_data[\"Finding Labels\"]):\n",
    "    for label in labels.split(\"|\"):\n",
    "        label_set.add(label)\n",
    "\n",
    "print(\"All labels:\")\n",
    "for i, label in enumerate(label_set):\n",
    "    print(f\"{i + 1}. {label}\")\n",
    "print(f\"Total labels: {len(label_set)}\")\n",
    "    "
   ]
  },
  {
   "cell_type": "markdown",
   "metadata": {},
   "source": [
    "Consider that this will have to be done every time the data is loaded and it might be a good idea to generate a new CSV for future data use. There are other columns that can  potentially be dropped from the data as well, so this supports creating a \"clean\" CSV for further use."
   ]
  },
  {
   "cell_type": "markdown",
   "metadata": {},
   "source": [
    "### View Position\n",
    "This column has 2 possible values, `PA` or `AP` and can be converted to a 0 or 1 value."
   ]
  },
  {
   "cell_type": "code",
   "execution_count": 5,
   "metadata": {},
   "outputs": [
    {
     "data": {
      "text/plain": [
       "2"
      ]
     },
     "execution_count": 5,
     "metadata": {},
     "output_type": "execute_result"
    }
   ],
   "source": [
    "len(pd.unique(clean_data[\"View Position\"]))"
   ]
  },
  {
   "cell_type": "markdown",
   "metadata": {},
   "source": [
    "### Bad images\n",
    "There are some images that are unusable for a variety of reasons. The [cxr14_bad_labels.csv](./dataset/cxr14_bad_labels.csv) contains a complete list of the images that cannot be used and the reasons for which they should be removed from the data."
   ]
  },
  {
   "cell_type": "code",
   "execution_count": 6,
   "metadata": {},
   "outputs": [
    {
     "name": "stdout",
     "output_type": "stream",
     "text": [
      "Total bad images: 432\n"
     ]
    },
    {
     "data": {
      "text/html": [
       "<div>\n",
       "<style scoped>\n",
       "    .dataframe tbody tr th:only-of-type {\n",
       "        vertical-align: middle;\n",
       "    }\n",
       "\n",
       "    .dataframe tbody tr th {\n",
       "        vertical-align: top;\n",
       "    }\n",
       "\n",
       "    .dataframe thead th {\n",
       "        text-align: right;\n",
       "    }\n",
       "</style>\n",
       "<table border=\"1\" class=\"dataframe\">\n",
       "  <thead>\n",
       "    <tr style=\"text-align: right;\">\n",
       "      <th></th>\n",
       "      <th>File label</th>\n",
       "      <th>Inverted</th>\n",
       "      <th>Not frontal</th>\n",
       "      <th>Rotated</th>\n",
       "    </tr>\n",
       "  </thead>\n",
       "  <tbody>\n",
       "    <tr>\n",
       "      <th>0</th>\n",
       "      <td>00000583_024.png</td>\n",
       "      <td>1.0</td>\n",
       "      <td>0.0</td>\n",
       "      <td>0.0</td>\n",
       "    </tr>\n",
       "    <tr>\n",
       "      <th>1</th>\n",
       "      <td>00002180_000.png</td>\n",
       "      <td>1.0</td>\n",
       "      <td>0.0</td>\n",
       "      <td>0.0</td>\n",
       "    </tr>\n",
       "    <tr>\n",
       "      <th>2</th>\n",
       "      <td>00002300_026.png</td>\n",
       "      <td>1.0</td>\n",
       "      <td>0.0</td>\n",
       "      <td>0.0</td>\n",
       "    </tr>\n",
       "    <tr>\n",
       "      <th>3</th>\n",
       "      <td>00002371_015.png</td>\n",
       "      <td>1.0</td>\n",
       "      <td>0.0</td>\n",
       "      <td>0.0</td>\n",
       "    </tr>\n",
       "    <tr>\n",
       "      <th>4</th>\n",
       "      <td>00006209_001.png</td>\n",
       "      <td>1.0</td>\n",
       "      <td>0.0</td>\n",
       "      <td>0.0</td>\n",
       "    </tr>\n",
       "    <tr>\n",
       "      <th>5</th>\n",
       "      <td>00007624_036.png</td>\n",
       "      <td>1.0</td>\n",
       "      <td>0.0</td>\n",
       "      <td>0.0</td>\n",
       "    </tr>\n",
       "    <tr>\n",
       "      <th>6</th>\n",
       "      <td>00008051_036.png</td>\n",
       "      <td>1.0</td>\n",
       "      <td>0.0</td>\n",
       "      <td>0.0</td>\n",
       "    </tr>\n",
       "    <tr>\n",
       "      <th>7</th>\n",
       "      <td>00009175_001.png</td>\n",
       "      <td>1.0</td>\n",
       "      <td>0.0</td>\n",
       "      <td>0.0</td>\n",
       "    </tr>\n",
       "    <tr>\n",
       "      <th>8</th>\n",
       "      <td>00009628_004.png</td>\n",
       "      <td>1.0</td>\n",
       "      <td>0.0</td>\n",
       "      <td>0.0</td>\n",
       "    </tr>\n",
       "    <tr>\n",
       "      <th>9</th>\n",
       "      <td>00010007_121.png</td>\n",
       "      <td>1.0</td>\n",
       "      <td>0.0</td>\n",
       "      <td>0.0</td>\n",
       "    </tr>\n",
       "  </tbody>\n",
       "</table>\n",
       "</div>"
      ],
      "text/plain": [
       "         File label  Inverted  Not frontal  Rotated\n",
       "0  00000583_024.png       1.0          0.0      0.0\n",
       "1  00002180_000.png       1.0          0.0      0.0\n",
       "2  00002300_026.png       1.0          0.0      0.0\n",
       "3  00002371_015.png       1.0          0.0      0.0\n",
       "4  00006209_001.png       1.0          0.0      0.0\n",
       "5  00007624_036.png       1.0          0.0      0.0\n",
       "6  00008051_036.png       1.0          0.0      0.0\n",
       "7  00009175_001.png       1.0          0.0      0.0\n",
       "8  00009628_004.png       1.0          0.0      0.0\n",
       "9  00010007_121.png       1.0          0.0      0.0"
      ]
     },
     "execution_count": 6,
     "metadata": {},
     "output_type": "execute_result"
    }
   ],
   "source": [
    "bad_images = pd.read_csv(\"dataset/cxr14_bad_labels.csv\").drop([\"Index\"], axis=1)\n",
    "print(f\"Total bad images: {len(bad_images)}\")\n",
    "bad_images.head(10)"
   ]
  },
  {
   "cell_type": "markdown",
   "metadata": {},
   "source": [
    "### Patient ID\n",
    "There are several patients with multiple scans and these need to be taken into account when training the model. Additionally, with some patients that have multiple scans, there are different findings between each scan. This knowledge might be useful in training."
   ]
  },
  {
   "cell_type": "code",
   "execution_count": 7,
   "metadata": {},
   "outputs": [
    {
     "name": "stdout",
     "output_type": "stream",
     "text": [
      "Total number of patients: 30802\n"
     ]
    }
   ],
   "source": [
    "print(f\"\"\"Total number of patients: {len(pd.unique(clean_data[\"Patient ID\"]))}\"\"\")"
   ]
  },
  {
   "cell_type": "markdown",
   "metadata": {},
   "source": [
    "### Follow-up ID\n",
    "Not sure what this corresponds to and may not be a useful column. Will need to investigate further and determine its usefulness/meaning."
   ]
  },
  {
   "cell_type": "markdown",
   "metadata": {},
   "source": [
    "### Missing Data\n",
    "Fortunately, there is no missing data in any of the columns, so no imputation or drops need to be done to account for this"
   ]
  },
  {
   "cell_type": "code",
   "execution_count": 8,
   "metadata": {},
   "outputs": [
    {
     "data": {
      "text/plain": [
       "Image Index       0\n",
       "Finding Labels    0\n",
       "Follow-up #       0\n",
       "Patient ID        0\n",
       "Patient Age       0\n",
       "Patient Gender    0\n",
       "View Position     0\n",
       "Image Width       0\n",
       "Image Height      0\n",
       "Spacing X         0\n",
       "Spacing Y         0\n",
       "dtype: int64"
      ]
     },
     "execution_count": 8,
     "metadata": {},
     "output_type": "execute_result"
    }
   ],
   "source": [
    "clean_data.isna().sum()"
   ]
  },
  {
   "cell_type": "markdown",
   "metadata": {},
   "source": [
    "### Gender\n",
    "Might be better to relabel as \"sex\". The following is an example to get the count for a column, using this label."
   ]
  },
  {
   "cell_type": "code",
   "execution_count": 9,
   "metadata": {},
   "outputs": [
    {
     "data": {
      "text/plain": [
       "M    63328\n",
       "F    48776\n",
       "Name: Patient Gender, dtype: int64"
      ]
     },
     "execution_count": 9,
     "metadata": {},
     "output_type": "execute_result"
    }
   ],
   "source": [
    "clean_data[\"Patient Gender\"].value_counts()"
   ]
  },
  {
   "cell_type": "markdown",
   "metadata": {},
   "source": [
    "## Use of data/model\n",
    "The predictability model created by analyzing the data can be used to find the probability that a given scan is likely to have \"No Finding\" and get data back in real time without need for immediate human verification. IE if the model detects with a probability >85% that there is no finding, it can be de-prioritized in a queue of scans that need review. This would require a model that is trained to find a boolean of finding vs no finding.\n",
    "\n",
    "Additionally, the data can be used for prioritizing particular findings that require further classification, more information, etc.\n",
    "\n",
    "The `sklearn` library has a `predict_proba()` method that can be used to determine the probability that a specific prediction falls within a certain probability range."
   ]
  },
  {
   "cell_type": "code",
   "execution_count": null,
   "metadata": {},
   "outputs": [],
   "source": []
  }
 ],
 "metadata": {
  "kernelspec": {
   "display_name": "Python 3",
   "language": "python",
   "name": "python3"
  },
  "language_info": {
   "codemirror_mode": {
    "name": "ipython",
    "version": 3
   },
   "file_extension": ".py",
   "mimetype": "text/x-python",
   "name": "python",
   "nbconvert_exporter": "python",
   "pygments_lexer": "ipython3",
   "version": "3.8.3"
  }
 },
 "nbformat": 4,
 "nbformat_minor": 4
}
