{
 "metadata": {
  "language_info": {
   "codemirror_mode": {
    "name": "ipython",
    "version": 3
   },
   "file_extension": ".py",
   "mimetype": "text/x-python",
   "name": "python",
   "nbconvert_exporter": "python",
   "pygments_lexer": "ipython3",
   "version": "3.8.3-final"
  },
  "orig_nbformat": 2,
  "kernelspec": {
   "name": "python3",
   "display_name": "Python 3"
  }
 },
 "nbformat": 4,
 "nbformat_minor": 2,
 "cells": [
  {
   "cell_type": "code",
   "execution_count": 1,
   "metadata": {},
   "outputs": [],
   "source": [
    "import numpy as np\n",
    "import pandas as pd\n",
    "%matplotlib inline\n",
    "import matplotlib.pyplot as plt\n",
    "from jupyterthemes import jtplot\n",
    "jtplot.style(theme='onedork', context='notebook')"
   ]
  },
  {
   "cell_type": "code",
   "execution_count": 2,
   "metadata": {},
   "outputs": [],
   "source": [
    "img_metadata = pd.read_csv(\"../dataset/Data_Entry_2017.csv\")\n",
    "unusable_images = pd.read_csv(\"../dataset/cxr14_bad_labels.csv\").drop([\"Index\"], axis=1)"
   ]
  },
  {
   "cell_type": "code",
   "execution_count": 3,
   "metadata": {},
   "outputs": [
    {
     "output_type": "stream",
     "name": "stdout",
     "text": [
      "All labels:\n1. No Finding\n2. Nodule\n3. Consolidation\n4. Pneumothorax\n5. Atelectasis\n6. Edema\n7. Emphysema\n8. Mass\n9. Hernia\n10. Pleural_Thickening\n11. Infiltration\n12. Fibrosis\n13. Effusion\n14. Cardiomegaly\n15. Pneumonia\nTotal labels: 15\n"
     ]
    }
   ],
   "source": [
    "finding_labels = set()\n",
    "for labels in pd.unique(img_metadata[\"Finding Labels\"]):\n",
    "    for label in labels.split(\"|\"):\n",
    "        finding_labels.add(label)\n",
    "\n",
    "print(\"All labels:\")\n",
    "for i, label in enumerate(finding_labels):\n",
    "    print(f\"{i + 1}. {label}\")\n",
    "print(f\"Total labels: {len(finding_labels)}\")"
   ]
  },
  {
   "cell_type": "code",
   "execution_count": 4,
   "metadata": {},
   "outputs": [
    {
     "output_type": "execute_result",
     "data": {
      "text/plain": [
       "Index(['Image Index', 'Finding Labels', 'Follow-up #', 'Patient ID',\n",
       "       'Patient Age', 'Patient Gender', 'View Position', 'Image Width',\n",
       "       'Image Height', 'Spacing X', 'Spacing Y'],\n",
       "      dtype='object')"
      ]
     },
     "metadata": {},
     "execution_count": 4
    }
   ],
   "source": [
    "img_metadata.columns"
   ]
  },
  {
   "cell_type": "code",
   "execution_count": 5,
   "metadata": {},
   "outputs": [
    {
     "output_type": "execute_result",
     "data": {
      "text/plain": [
       "Index(['img_filename', 'Finding Labels', 'Follow-up #', 'pt_id', 'pt_age',\n",
       "       'pt_sex', 'view_position', 'img_width', 'img_height', 'x_spacing',\n",
       "       'y_spacing'],\n",
       "      dtype='object')"
      ]
     },
     "metadata": {},
     "execution_count": 5
    }
   ],
   "source": [
    "img_metadata.rename(columns = {\"Image Index\": \"img_filename\", \"Patient ID\": \"pt_id\", \"Patient Age\": \"pt_age\", \"Patient Gender\": \"pt_sex\", \"View Position\": \"view_position\", \"Image Width\": \"img_width\", \"Image Height\": \"img_height\", \"Spacing X\": \"x_spacing\", \"Spacing Y\": \"y_spacing\"}, inplace=True)\n",
    "img_metadata.columns"
   ]
  },
  {
   "cell_type": "code",
   "execution_count": 6,
   "metadata": {},
   "outputs": [],
   "source": [
    "def has_label(label, row):\n",
    "    return 1 if label in row[\"Finding Labels\"].split(\"|\") else 0\n",
    "\n",
    "for label in finding_labels:\n",
    "    img_metadata[label] = img_metadata.apply(lambda row: has_label(label, row), axis=1)\n",
    "\n",
    "img_metadata = img_metadata.drop([\"Finding Labels\", \"Follow-up #\"], axis=1)"
   ]
  },
  {
   "cell_type": "code",
   "execution_count": 7,
   "metadata": {},
   "outputs": [
    {
     "output_type": "execute_result",
     "data": {
      "text/plain": [
       "         File label  Inverted  Not frontal  Rotated\n",
       "0  00000583_024.png       1.0          0.0      0.0\n",
       "1  00002180_000.png       1.0          0.0      0.0\n",
       "2  00002300_026.png       1.0          0.0      0.0\n",
       "3  00002371_015.png       1.0          0.0      0.0\n",
       "4  00006209_001.png       1.0          0.0      0.0"
      ],
      "text/html": "<div>\n<style scoped>\n    .dataframe tbody tr th:only-of-type {\n        vertical-align: middle;\n    }\n\n    .dataframe tbody tr th {\n        vertical-align: top;\n    }\n\n    .dataframe thead th {\n        text-align: right;\n    }\n</style>\n<table border=\"1\" class=\"dataframe\">\n  <thead>\n    <tr style=\"text-align: right;\">\n      <th></th>\n      <th>File label</th>\n      <th>Inverted</th>\n      <th>Not frontal</th>\n      <th>Rotated</th>\n    </tr>\n  </thead>\n  <tbody>\n    <tr>\n      <th>0</th>\n      <td>00000583_024.png</td>\n      <td>1.0</td>\n      <td>0.0</td>\n      <td>0.0</td>\n    </tr>\n    <tr>\n      <th>1</th>\n      <td>00002180_000.png</td>\n      <td>1.0</td>\n      <td>0.0</td>\n      <td>0.0</td>\n    </tr>\n    <tr>\n      <th>2</th>\n      <td>00002300_026.png</td>\n      <td>1.0</td>\n      <td>0.0</td>\n      <td>0.0</td>\n    </tr>\n    <tr>\n      <th>3</th>\n      <td>00002371_015.png</td>\n      <td>1.0</td>\n      <td>0.0</td>\n      <td>0.0</td>\n    </tr>\n    <tr>\n      <th>4</th>\n      <td>00006209_001.png</td>\n      <td>1.0</td>\n      <td>0.0</td>\n      <td>0.0</td>\n    </tr>\n  </tbody>\n</table>\n</div>"
     },
     "metadata": {},
     "execution_count": 7
    }
   ],
   "source": [
    "unusable_images.head()"
   ]
  },
  {
   "cell_type": "code",
   "execution_count": 8,
   "metadata": {},
   "outputs": [
    {
     "output_type": "stream",
     "name": "stdout",
     "text": [
      "Total images to drop: 257\nTotal indexes found: 257\n"
     ]
    }
   ],
   "source": [
    "to_drop = []\n",
    "unusable_list = unusable_images[\"File label\"].tolist()\n",
    "for index, row in img_metadata.iterrows():\n",
    "    if row[\"img_filename\"] in unusable_list:\n",
    "        to_drop.append(index)\n",
    "print(f\"Total images to drop: {len(pd.unique(unusable_images['File label']))}\")\n",
    "print(f\"Total indexes found: {len(to_drop)}\")\n"
   ]
  },
  {
   "cell_type": "code",
   "execution_count": 9,
   "metadata": {},
   "outputs": [
    {
     "output_type": "stream",
     "name": "stdout",
     "text": [
      "Total images before drop: 112120\nImages usable: 111863\nTotal dropped: 257\n"
     ]
    }
   ],
   "source": [
    "usable_imgs = img_metadata.drop(to_drop, axis=0)\n",
    "print(f\"Total images before drop: {len(img_metadata)}\")\n",
    "print(f\"Images usable: {len(usable_imgs)}\")\n",
    "print(f\"Total dropped: {len(img_metadata) - len(usable_imgs)}\")"
   ]
  },
  {
   "cell_type": "code",
   "execution_count": 10,
   "metadata": {},
   "outputs": [
    {
     "output_type": "execute_result",
     "data": {
      "text/plain": [
       "               pt_id         pt_age      img_width     img_height  \\\n",
       "count  111847.000000  111847.000000  111847.000000  111847.000000   \n",
       "mean    14352.069854      46.873729    2646.817215    2486.516482   \n",
       "std      8404.640184      16.593094     340.900387     401.416234   \n",
       "min         1.000000       1.000000    1143.000000     966.000000   \n",
       "25%      7317.000000      35.000000    2500.000000    2048.000000   \n",
       "50%     13995.000000      49.000000    2520.000000    2544.000000   \n",
       "75%     20673.000000      59.000000    2992.000000    2991.000000   \n",
       "max     30805.000000      95.000000    3827.000000    3567.000000   \n",
       "\n",
       "           x_spacing      y_spacing     No Finding         Nodule  \\\n",
       "count  111847.000000  111847.000000  111847.000000  111847.000000   \n",
       "mean        0.155634       0.155634       0.538074       0.056488   \n",
       "std         0.016178       0.016178       0.498550       0.230862   \n",
       "min         0.115000       0.115000       0.000000       0.000000   \n",
       "25%         0.143000       0.143000       0.000000       0.000000   \n",
       "50%         0.143000       0.143000       1.000000       0.000000   \n",
       "75%         0.168000       0.168000       1.000000       0.000000   \n",
       "max         0.198800       0.198800       1.000000       1.000000   \n",
       "\n",
       "       Consolidation   Pneumothorax  ...          Edema      Emphysema  \\\n",
       "count  111847.000000  111847.000000  ...  111847.000000  111847.000000   \n",
       "mean        0.041664       0.047315  ...       0.020519       0.022450   \n",
       "std         0.199821       0.212312  ...       0.141768       0.148143   \n",
       "min         0.000000       0.000000  ...       0.000000       0.000000   \n",
       "25%         0.000000       0.000000  ...       0.000000       0.000000   \n",
       "50%         0.000000       0.000000  ...       0.000000       0.000000   \n",
       "75%         0.000000       0.000000  ...       0.000000       0.000000   \n",
       "max         1.000000       1.000000  ...       1.000000       1.000000   \n",
       "\n",
       "                Mass         Hernia  Pleural_Thickening   Infiltration  \\\n",
       "count  111847.000000  111847.000000       111847.000000  111847.000000   \n",
       "mean        0.051579       0.002030            0.030202       0.177618   \n",
       "std         0.221177       0.045005            0.171143       0.382192   \n",
       "min         0.000000       0.000000            0.000000       0.000000   \n",
       "25%         0.000000       0.000000            0.000000       0.000000   \n",
       "50%         0.000000       0.000000            0.000000       0.000000   \n",
       "75%         0.000000       0.000000            0.000000       0.000000   \n",
       "max         1.000000       1.000000            1.000000       1.000000   \n",
       "\n",
       "            Fibrosis       Effusion   Cardiomegaly      Pneumonia  \n",
       "count  111847.000000  111847.000000  111847.000000  111847.000000  \n",
       "mean        0.015047       0.118787       0.024811       0.012767  \n",
       "std         0.121742       0.323539       0.155548       0.112270  \n",
       "min         0.000000       0.000000       0.000000       0.000000  \n",
       "25%         0.000000       0.000000       0.000000       0.000000  \n",
       "50%         0.000000       0.000000       0.000000       0.000000  \n",
       "75%         0.000000       0.000000       0.000000       0.000000  \n",
       "max         1.000000       1.000000       1.000000       1.000000  \n",
       "\n",
       "[8 rows x 21 columns]"
      ],
      "text/html": "<div>\n<style scoped>\n    .dataframe tbody tr th:only-of-type {\n        vertical-align: middle;\n    }\n\n    .dataframe tbody tr th {\n        vertical-align: top;\n    }\n\n    .dataframe thead th {\n        text-align: right;\n    }\n</style>\n<table border=\"1\" class=\"dataframe\">\n  <thead>\n    <tr style=\"text-align: right;\">\n      <th></th>\n      <th>pt_id</th>\n      <th>pt_age</th>\n      <th>img_width</th>\n      <th>img_height</th>\n      <th>x_spacing</th>\n      <th>y_spacing</th>\n      <th>No Finding</th>\n      <th>Nodule</th>\n      <th>Consolidation</th>\n      <th>Pneumothorax</th>\n      <th>...</th>\n      <th>Edema</th>\n      <th>Emphysema</th>\n      <th>Mass</th>\n      <th>Hernia</th>\n      <th>Pleural_Thickening</th>\n      <th>Infiltration</th>\n      <th>Fibrosis</th>\n      <th>Effusion</th>\n      <th>Cardiomegaly</th>\n      <th>Pneumonia</th>\n    </tr>\n  </thead>\n  <tbody>\n    <tr>\n      <th>count</th>\n      <td>111847.000000</td>\n      <td>111847.000000</td>\n      <td>111847.000000</td>\n      <td>111847.000000</td>\n      <td>111847.000000</td>\n      <td>111847.000000</td>\n      <td>111847.000000</td>\n      <td>111847.000000</td>\n      <td>111847.000000</td>\n      <td>111847.000000</td>\n      <td>...</td>\n      <td>111847.000000</td>\n      <td>111847.000000</td>\n      <td>111847.000000</td>\n      <td>111847.000000</td>\n      <td>111847.000000</td>\n      <td>111847.000000</td>\n      <td>111847.000000</td>\n      <td>111847.000000</td>\n      <td>111847.000000</td>\n      <td>111847.000000</td>\n    </tr>\n    <tr>\n      <th>mean</th>\n      <td>14352.069854</td>\n      <td>46.873729</td>\n      <td>2646.817215</td>\n      <td>2486.516482</td>\n      <td>0.155634</td>\n      <td>0.155634</td>\n      <td>0.538074</td>\n      <td>0.056488</td>\n      <td>0.041664</td>\n      <td>0.047315</td>\n      <td>...</td>\n      <td>0.020519</td>\n      <td>0.022450</td>\n      <td>0.051579</td>\n      <td>0.002030</td>\n      <td>0.030202</td>\n      <td>0.177618</td>\n      <td>0.015047</td>\n      <td>0.118787</td>\n      <td>0.024811</td>\n      <td>0.012767</td>\n    </tr>\n    <tr>\n      <th>std</th>\n      <td>8404.640184</td>\n      <td>16.593094</td>\n      <td>340.900387</td>\n      <td>401.416234</td>\n      <td>0.016178</td>\n      <td>0.016178</td>\n      <td>0.498550</td>\n      <td>0.230862</td>\n      <td>0.199821</td>\n      <td>0.212312</td>\n      <td>...</td>\n      <td>0.141768</td>\n      <td>0.148143</td>\n      <td>0.221177</td>\n      <td>0.045005</td>\n      <td>0.171143</td>\n      <td>0.382192</td>\n      <td>0.121742</td>\n      <td>0.323539</td>\n      <td>0.155548</td>\n      <td>0.112270</td>\n    </tr>\n    <tr>\n      <th>min</th>\n      <td>1.000000</td>\n      <td>1.000000</td>\n      <td>1143.000000</td>\n      <td>966.000000</td>\n      <td>0.115000</td>\n      <td>0.115000</td>\n      <td>0.000000</td>\n      <td>0.000000</td>\n      <td>0.000000</td>\n      <td>0.000000</td>\n      <td>...</td>\n      <td>0.000000</td>\n      <td>0.000000</td>\n      <td>0.000000</td>\n      <td>0.000000</td>\n      <td>0.000000</td>\n      <td>0.000000</td>\n      <td>0.000000</td>\n      <td>0.000000</td>\n      <td>0.000000</td>\n      <td>0.000000</td>\n    </tr>\n    <tr>\n      <th>25%</th>\n      <td>7317.000000</td>\n      <td>35.000000</td>\n      <td>2500.000000</td>\n      <td>2048.000000</td>\n      <td>0.143000</td>\n      <td>0.143000</td>\n      <td>0.000000</td>\n      <td>0.000000</td>\n      <td>0.000000</td>\n      <td>0.000000</td>\n      <td>...</td>\n      <td>0.000000</td>\n      <td>0.000000</td>\n      <td>0.000000</td>\n      <td>0.000000</td>\n      <td>0.000000</td>\n      <td>0.000000</td>\n      <td>0.000000</td>\n      <td>0.000000</td>\n      <td>0.000000</td>\n      <td>0.000000</td>\n    </tr>\n    <tr>\n      <th>50%</th>\n      <td>13995.000000</td>\n      <td>49.000000</td>\n      <td>2520.000000</td>\n      <td>2544.000000</td>\n      <td>0.143000</td>\n      <td>0.143000</td>\n      <td>1.000000</td>\n      <td>0.000000</td>\n      <td>0.000000</td>\n      <td>0.000000</td>\n      <td>...</td>\n      <td>0.000000</td>\n      <td>0.000000</td>\n      <td>0.000000</td>\n      <td>0.000000</td>\n      <td>0.000000</td>\n      <td>0.000000</td>\n      <td>0.000000</td>\n      <td>0.000000</td>\n      <td>0.000000</td>\n      <td>0.000000</td>\n    </tr>\n    <tr>\n      <th>75%</th>\n      <td>20673.000000</td>\n      <td>59.000000</td>\n      <td>2992.000000</td>\n      <td>2991.000000</td>\n      <td>0.168000</td>\n      <td>0.168000</td>\n      <td>1.000000</td>\n      <td>0.000000</td>\n      <td>0.000000</td>\n      <td>0.000000</td>\n      <td>...</td>\n      <td>0.000000</td>\n      <td>0.000000</td>\n      <td>0.000000</td>\n      <td>0.000000</td>\n      <td>0.000000</td>\n      <td>0.000000</td>\n      <td>0.000000</td>\n      <td>0.000000</td>\n      <td>0.000000</td>\n      <td>0.000000</td>\n    </tr>\n    <tr>\n      <th>max</th>\n      <td>30805.000000</td>\n      <td>95.000000</td>\n      <td>3827.000000</td>\n      <td>3567.000000</td>\n      <td>0.198800</td>\n      <td>0.198800</td>\n      <td>1.000000</td>\n      <td>1.000000</td>\n      <td>1.000000</td>\n      <td>1.000000</td>\n      <td>...</td>\n      <td>1.000000</td>\n      <td>1.000000</td>\n      <td>1.000000</td>\n      <td>1.000000</td>\n      <td>1.000000</td>\n      <td>1.000000</td>\n      <td>1.000000</td>\n      <td>1.000000</td>\n      <td>1.000000</td>\n      <td>1.000000</td>\n    </tr>\n  </tbody>\n</table>\n<p>8 rows × 21 columns</p>\n</div>"
     },
     "metadata": {},
     "execution_count": 10
    }
   ],
   "source": [
    "usable_imgs = usable_imgs[usable_imgs[\"pt_age\"] < 100]\n",
    "usable_imgs.describe()"
   ]
  },
  {
   "cell_type": "code",
   "execution_count": 11,
   "metadata": {},
   "outputs": [],
   "source": [
    "usable_imgs.to_csv(\"../dataset/usable_img_metadata.csv\", index=False)"
   ]
  },
  {
   "cell_type": "code",
   "execution_count": null,
   "metadata": {},
   "outputs": [],
   "source": []
  }
 ]
}