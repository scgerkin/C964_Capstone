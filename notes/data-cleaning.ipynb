{
 "metadata": {
  "language_info": {
   "codemirror_mode": {
    "name": "ipython",
    "version": 3
   },
   "file_extension": ".py",
   "mimetype": "text/x-python",
   "name": "python",
   "nbconvert_exporter": "python",
   "pygments_lexer": "ipython3",
   "version": "3.8.3-final"
  },
  "orig_nbformat": 2,
  "kernelspec": {
   "name": "python3",
   "display_name": "Python 3"
  }
 },
 "nbformat": 4,
 "nbformat_minor": 2,
 "cells": [
  {
   "cell_type": "code",
   "execution_count": 1,
   "metadata": {},
   "outputs": [],
   "source": [
    "import numpy as np\n",
    "import pandas as pd\n",
    "%matplotlib inline\n",
    "import matplotlib.pyplot as plt\n",
    "from jupyterthemes import jtplot\n",
    "jtplot.style(theme='onedork', context='notebook')"
   ]
  },
  {
   "cell_type": "code",
   "execution_count": 2,
   "metadata": {},
   "outputs": [],
   "source": [
    "img_metadata = pd.read_csv(\"../dataset/Data_Entry_2017.csv\")\n",
    "unusable_images = pd.read_csv(\"../dataset/cxr14_bad_labels.csv\").drop([\"Index\"], axis=1)"
   ]
  },
  {
   "cell_type": "code",
   "execution_count": 3,
   "metadata": {},
   "outputs": [
    {
     "output_type": "stream",
     "name": "stdout",
     "text": [
      "All labels:\n1. Cardiomegaly\n2. Edema\n3. Emphysema\n4. No Finding\n5. Fibrosis\n6. Mass\n7. Atelectasis\n8. Pleural_Thickening\n9. Hernia\n10. Infiltration\n11. Pneumonia\n12. Pneumothorax\n13. Nodule\n14. Effusion\n15. Consolidation\nTotal labels: 15\n"
     ]
    }
   ],
   "source": [
    "finding_labels = set()\n",
    "for labels in pd.unique(img_metadata[\"Finding Labels\"]):\n",
    "    for label in labels.split(\"|\"):\n",
    "        finding_labels.add(label)\n",
    "\n",
    "print(\"All labels:\")\n",
    "for i, label in enumerate(finding_labels):\n",
    "    print(f\"{i + 1}. {label}\")\n",
    "print(f\"Total labels: {len(finding_labels)}\")"
   ]
  },
  {
   "cell_type": "code",
   "execution_count": 4,
   "metadata": {},
   "outputs": [
    {
     "output_type": "execute_result",
     "data": {
      "text/plain": [
       "Index(['Image Index', 'Finding Labels', 'Follow-up #', 'Patient ID',\n",
       "       'Patient Age', 'Patient Gender', 'View Position', 'Image Width',\n",
       "       'Image Height', 'Spacing X', 'Spacing Y'],\n",
       "      dtype='object')"
      ]
     },
     "metadata": {},
     "execution_count": 4
    }
   ],
   "source": [
    "img_metadata.columns"
   ]
  },
  {
   "cell_type": "code",
   "execution_count": 5,
   "metadata": {},
   "outputs": [
    {
     "output_type": "execute_result",
     "data": {
      "text/plain": [
       "Index(['img_filename', 'Finding Labels', 'Follow-up #', 'pt_id', 'pt_age',\n",
       "       'pt_sex', 'view_position', 'img_width', 'img_height', 'x_spacing',\n",
       "       'y_spacing'],\n",
       "      dtype='object')"
      ]
     },
     "metadata": {},
     "execution_count": 5
    }
   ],
   "source": [
    "img_metadata.rename(columns = {\"Image Index\": \"img_filename\", \"Patient ID\": \"pt_id\", \"Patient Age\": \"pt_age\", \"Patient Gender\": \"pt_sex\", \"View Position\": \"view_position\", \"Image Width\": \"img_width\", \"Image Height\": \"img_height\", \"Spacing X\": \"x_spacing\", \"Spacing Y\": \"y_spacing\"}, inplace=True)\n",
    "img_metadata.columns"
   ]
  },
  {
   "cell_type": "code",
   "execution_count": 6,
   "metadata": {},
   "outputs": [],
   "source": [
    "def has_label(label, row):\n",
    "    return 1 if label in row[\"Finding Labels\"].split(\"|\") else 0\n",
    "\n",
    "for label in finding_labels:\n",
    "    img_metadata[label] = img_metadata.apply(lambda row: has_label(label, row), axis=1)\n",
    "\n",
    "img_metadata = img_metadata.drop([\"Finding Labels\", \"Follow-up #\"], axis=1)"
   ]
  },
  {
   "cell_type": "code",
   "execution_count": 7,
   "metadata": {},
   "outputs": [
    {
     "output_type": "execute_result",
     "data": {
      "text/plain": [
       "         File label  Inverted  Not frontal  Rotated\n",
       "0  00000583_024.png       1.0          0.0      0.0\n",
       "1  00002180_000.png       1.0          0.0      0.0\n",
       "2  00002300_026.png       1.0          0.0      0.0\n",
       "3  00002371_015.png       1.0          0.0      0.0\n",
       "4  00006209_001.png       1.0          0.0      0.0"
      ],
      "text/html": "<div>\n<style scoped>\n    .dataframe tbody tr th:only-of-type {\n        vertical-align: middle;\n    }\n\n    .dataframe tbody tr th {\n        vertical-align: top;\n    }\n\n    .dataframe thead th {\n        text-align: right;\n    }\n</style>\n<table border=\"1\" class=\"dataframe\">\n  <thead>\n    <tr style=\"text-align: right;\">\n      <th></th>\n      <th>File label</th>\n      <th>Inverted</th>\n      <th>Not frontal</th>\n      <th>Rotated</th>\n    </tr>\n  </thead>\n  <tbody>\n    <tr>\n      <th>0</th>\n      <td>00000583_024.png</td>\n      <td>1.0</td>\n      <td>0.0</td>\n      <td>0.0</td>\n    </tr>\n    <tr>\n      <th>1</th>\n      <td>00002180_000.png</td>\n      <td>1.0</td>\n      <td>0.0</td>\n      <td>0.0</td>\n    </tr>\n    <tr>\n      <th>2</th>\n      <td>00002300_026.png</td>\n      <td>1.0</td>\n      <td>0.0</td>\n      <td>0.0</td>\n    </tr>\n    <tr>\n      <th>3</th>\n      <td>00002371_015.png</td>\n      <td>1.0</td>\n      <td>0.0</td>\n      <td>0.0</td>\n    </tr>\n    <tr>\n      <th>4</th>\n      <td>00006209_001.png</td>\n      <td>1.0</td>\n      <td>0.0</td>\n      <td>0.0</td>\n    </tr>\n  </tbody>\n</table>\n</div>"
     },
     "metadata": {},
     "execution_count": 7
    }
   ],
   "source": [
    "unusable_images.head()"
   ]
  },
  {
   "cell_type": "code",
   "execution_count": 8,
   "metadata": {},
   "outputs": [
    {
     "output_type": "stream",
     "name": "stdout",
     "text": [
      "Total images to drop: 257\nTotal indexes found: 257\n"
     ]
    }
   ],
   "source": [
    "to_drop = []\n",
    "unusable_list = unusable_images[\"File label\"].tolist()\n",
    "for index, row in img_metadata.iterrows():\n",
    "    if row[\"img_filename\"] in unusable_list:\n",
    "        to_drop.append(index)\n",
    "print(f\"Total images to drop: {len(pd.unique(unusable_images['File label']))}\")\n",
    "print(f\"Total indexes found: {len(to_drop)}\")\n"
   ]
  },
  {
   "cell_type": "code",
   "execution_count": 9,
   "metadata": {},
   "outputs": [
    {
     "output_type": "stream",
     "name": "stdout",
     "text": [
      "Total images before drop: 112120\nImages usable: 111863\nTotal dropped: 257\n"
     ]
    }
   ],
   "source": [
    "usable_imgs = img_metadata.drop(to_drop, axis=0)\n",
    "print(f\"Total images before drop: {len(img_metadata)}\")\n",
    "print(f\"Images usable: {len(usable_imgs)}\")\n",
    "print(f\"Total dropped: {len(img_metadata) - len(usable_imgs)}\")"
   ]
  },
  {
   "cell_type": "code",
   "execution_count": 10,
   "metadata": {},
   "outputs": [],
   "source": [
    "usable_imgs.to_csv(\"../dataset/usable_img_metadata.csv\", index=False)"
   ]
  },
  {
   "cell_type": "code",
   "execution_count": null,
   "metadata": {},
   "outputs": [],
   "source": []
  }
 ]
}