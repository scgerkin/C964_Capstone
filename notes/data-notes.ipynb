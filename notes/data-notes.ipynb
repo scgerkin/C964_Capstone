{
 "cells": [
  {
   "cell_type": "markdown",
   "metadata": {},
   "source": [
    "# General notes about the data set"
   ]
  },
  {
   "cell_type": "code",
   "execution_count": 1,
   "metadata": {},
   "outputs": [],
   "source": [
    "import numpy as np\n",
    "import pandas as pd\n",
    "%matplotlib inline\n",
    "import matplotlib.pyplot as plt\n",
    "from jupyterthemes import jtplot\n",
    "jtplot.style(theme='onedork', context='notebook')"
   ]
  },
  {
   "cell_type": "markdown",
   "metadata": {},
   "source": [
    "## Potentially unuseful columns\n",
    "There are some general metadata columns about the images that are not interesting for display, these include the image width, height, the pixel spacing, and the image identifier (\"Image Index\")."
   ]
  },
  {
   "cell_type": "code",
   "execution_count": 2,
   "metadata": {},
   "outputs": [
    {
     "output_type": "execute_result",
     "data": {
      "text/plain": [
       "            Finding Labels  Follow-up #  Patient ID  Patient Age  \\\n",
       "0             Cardiomegaly            0           1           58   \n",
       "1   Cardiomegaly|Emphysema            1           1           58   \n",
       "2    Cardiomegaly|Effusion            2           1           58   \n",
       "3               No Finding            0           2           81   \n",
       "4                   Hernia            0           3           81   \n",
       "5                   Hernia            1           3           74   \n",
       "6                   Hernia            2           3           75   \n",
       "7      Hernia|Infiltration            3           3           76   \n",
       "8                   Hernia            4           3           77   \n",
       "9                   Hernia            5           3           78   \n",
       "10                  Hernia            6           3           79   \n",
       "11                  Hernia            7           3           80   \n",
       "12             Mass|Nodule            0           4           82   \n",
       "13              No Finding            0           5           69   \n",
       "14              No Finding            1           5           69   \n",
       "15              No Finding            2           5           69   \n",
       "16              No Finding            3           5           69   \n",
       "17              No Finding            4           5           70   \n",
       "18              No Finding            5           5           70   \n",
       "19            Infiltration            6           5           70   \n",
       "\n",
       "   Patient Gender View Position  \n",
       "0               M            PA  \n",
       "1               M            PA  \n",
       "2               M            PA  \n",
       "3               M            PA  \n",
       "4               F            PA  \n",
       "5               F            PA  \n",
       "6               F            PA  \n",
       "7               F            PA  \n",
       "8               F            PA  \n",
       "9               F            PA  \n",
       "10              F            PA  \n",
       "11              F            PA  \n",
       "12              M            AP  \n",
       "13              F            PA  \n",
       "14              F            AP  \n",
       "15              F            AP  \n",
       "16              F            PA  \n",
       "17              F            PA  \n",
       "18              F            PA  \n",
       "19              F            PA  "
      ],
      "text/html": "<div>\n<style scoped>\n    .dataframe tbody tr th:only-of-type {\n        vertical-align: middle;\n    }\n\n    .dataframe tbody tr th {\n        vertical-align: top;\n    }\n\n    .dataframe thead th {\n        text-align: right;\n    }\n</style>\n<table border=\"1\" class=\"dataframe\">\n  <thead>\n    <tr style=\"text-align: right;\">\n      <th></th>\n      <th>Finding Labels</th>\n      <th>Follow-up #</th>\n      <th>Patient ID</th>\n      <th>Patient Age</th>\n      <th>Patient Gender</th>\n      <th>View Position</th>\n    </tr>\n  </thead>\n  <tbody>\n    <tr>\n      <th>0</th>\n      <td>Cardiomegaly</td>\n      <td>0</td>\n      <td>1</td>\n      <td>58</td>\n      <td>M</td>\n      <td>PA</td>\n    </tr>\n    <tr>\n      <th>1</th>\n      <td>Cardiomegaly|Emphysema</td>\n      <td>1</td>\n      <td>1</td>\n      <td>58</td>\n      <td>M</td>\n      <td>PA</td>\n    </tr>\n    <tr>\n      <th>2</th>\n      <td>Cardiomegaly|Effusion</td>\n      <td>2</td>\n      <td>1</td>\n      <td>58</td>\n      <td>M</td>\n      <td>PA</td>\n    </tr>\n    <tr>\n      <th>3</th>\n      <td>No Finding</td>\n      <td>0</td>\n      <td>2</td>\n      <td>81</td>\n      <td>M</td>\n      <td>PA</td>\n    </tr>\n    <tr>\n      <th>4</th>\n      <td>Hernia</td>\n      <td>0</td>\n      <td>3</td>\n      <td>81</td>\n      <td>F</td>\n      <td>PA</td>\n    </tr>\n    <tr>\n      <th>5</th>\n      <td>Hernia</td>\n      <td>1</td>\n      <td>3</td>\n      <td>74</td>\n      <td>F</td>\n      <td>PA</td>\n    </tr>\n    <tr>\n      <th>6</th>\n      <td>Hernia</td>\n      <td>2</td>\n      <td>3</td>\n      <td>75</td>\n      <td>F</td>\n      <td>PA</td>\n    </tr>\n    <tr>\n      <th>7</th>\n      <td>Hernia|Infiltration</td>\n      <td>3</td>\n      <td>3</td>\n      <td>76</td>\n      <td>F</td>\n      <td>PA</td>\n    </tr>\n    <tr>\n      <th>8</th>\n      <td>Hernia</td>\n      <td>4</td>\n      <td>3</td>\n      <td>77</td>\n      <td>F</td>\n      <td>PA</td>\n    </tr>\n    <tr>\n      <th>9</th>\n      <td>Hernia</td>\n      <td>5</td>\n      <td>3</td>\n      <td>78</td>\n      <td>F</td>\n      <td>PA</td>\n    </tr>\n    <tr>\n      <th>10</th>\n      <td>Hernia</td>\n      <td>6</td>\n      <td>3</td>\n      <td>79</td>\n      <td>F</td>\n      <td>PA</td>\n    </tr>\n    <tr>\n      <th>11</th>\n      <td>Hernia</td>\n      <td>7</td>\n      <td>3</td>\n      <td>80</td>\n      <td>F</td>\n      <td>PA</td>\n    </tr>\n    <tr>\n      <th>12</th>\n      <td>Mass|Nodule</td>\n      <td>0</td>\n      <td>4</td>\n      <td>82</td>\n      <td>M</td>\n      <td>AP</td>\n    </tr>\n    <tr>\n      <th>13</th>\n      <td>No Finding</td>\n      <td>0</td>\n      <td>5</td>\n      <td>69</td>\n      <td>F</td>\n      <td>PA</td>\n    </tr>\n    <tr>\n      <th>14</th>\n      <td>No Finding</td>\n      <td>1</td>\n      <td>5</td>\n      <td>69</td>\n      <td>F</td>\n      <td>AP</td>\n    </tr>\n    <tr>\n      <th>15</th>\n      <td>No Finding</td>\n      <td>2</td>\n      <td>5</td>\n      <td>69</td>\n      <td>F</td>\n      <td>AP</td>\n    </tr>\n    <tr>\n      <th>16</th>\n      <td>No Finding</td>\n      <td>3</td>\n      <td>5</td>\n      <td>69</td>\n      <td>F</td>\n      <td>PA</td>\n    </tr>\n    <tr>\n      <th>17</th>\n      <td>No Finding</td>\n      <td>4</td>\n      <td>5</td>\n      <td>70</td>\n      <td>F</td>\n      <td>PA</td>\n    </tr>\n    <tr>\n      <th>18</th>\n      <td>No Finding</td>\n      <td>5</td>\n      <td>5</td>\n      <td>70</td>\n      <td>F</td>\n      <td>PA</td>\n    </tr>\n    <tr>\n      <th>19</th>\n      <td>Infiltration</td>\n      <td>6</td>\n      <td>5</td>\n      <td>70</td>\n      <td>F</td>\n      <td>PA</td>\n    </tr>\n  </tbody>\n</table>\n</div>"
     },
     "metadata": {},
     "execution_count": 2
    }
   ],
   "source": [
    "data = pd.read_csv(\"dataset/Data_Entry_2017.csv\")\n",
    "data.drop(['Image Index', 'Image Width', 'Image Height', 'Spacing X', 'Spacing Y'], axis=1).head(20)"
   ]
  },
  {
   "cell_type": "markdown",
   "metadata": {},
   "source": [
    "### Age outliers\n",
    "There are some values with age > 100, obviously a mistake, that need to be removed from the data. Besides this, age seems to follow a normal distribution with mean age of 46.87"
   ]
  },
  {
   "cell_type": "code",
   "execution_count": 3,
   "metadata": {},
   "outputs": [
    {
     "output_type": "stream",
     "name": "stdout",
     "text": [
      "Mean age of patients: 46.872573681581386\n"
     ]
    },
    {
     "output_type": "display_data",
     "data": {
      "text/plain": "<Figure size 576x504 with 1 Axes>",
      "image/svg+xml": "<?xml version=\"1.0\" encoding=\"utf-8\" standalone=\"no\"?>\r\n<!DOCTYPE svg PUBLIC \"-//W3C//DTD SVG 1.1//EN\"\r\n  \"http://www.w3.org/Graphics/SVG/1.1/DTD/svg11.dtd\">\r\n<!-- Created with matplotlib (https://matplotlib.org/) -->\r\n<svg height=\"413.443094pt\" version=\"1.1\" viewBox=\"0 0 520.171906 413.443094\" width=\"520.171906pt\" xmlns=\"http://www.w3.org/2000/svg\" xmlns:xlink=\"http://www.w3.org/1999/xlink\">\r\n <defs>\r\n  <style type=\"text/css\">\r\n*{stroke-linecap:butt;stroke-linejoin:round;}\r\n  </style>\r\n </defs>\r\n <g id=\"figure_1\">\r\n  <g id=\"patch_1\">\r\n   <path d=\"M 0 413.443094 \r\nL 520.171906 413.443094 \r\nL 520.171906 0 \r\nL 0 0 \r\nz\r\n\" style=\"fill:#373e4b;\"/>\r\n  </g>\r\n  <g id=\"axes_1\">\r\n   <g id=\"patch_2\">\r\n    <path d=\"M 66.571906 387.72 \r\nL 512.971906 387.72 \r\nL 512.971906 7.2 \r\nL 66.571906 7.2 \r\nz\r\n\" style=\"fill:#373e4b;\"/>\r\n   </g>\r\n   <g id=\"patch_3\">\r\n    <path clip-path=\"url(#pb4d220355c)\" d=\"M 86.862815 387.72 \r\nL 107.153724 387.72 \r\nL 107.153724 376.594603 \r\nL 86.862815 376.594603 \r\nz\r\n\" style=\"fill:#3572c6;\"/>\r\n   </g>\r\n   <g id=\"patch_4\">\r\n    <path clip-path=\"url(#pb4d220355c)\" d=\"M 107.153724 387.72 \r\nL 127.444634 387.72 \r\nL 127.444634 351.647535 \r\nL 107.153724 351.647535 \r\nz\r\n\" style=\"fill:#3572c6;\"/>\r\n   </g>\r\n   <g id=\"patch_5\">\r\n    <path clip-path=\"url(#pb4d220355c)\" d=\"M 127.444634 387.72 \r\nL 147.735543 387.72 \r\nL 147.735543 331.464756 \r\nL 127.444634 331.464756 \r\nz\r\n\" style=\"fill:#3572c6;\"/>\r\n   </g>\r\n   <g id=\"patch_6\">\r\n    <path clip-path=\"url(#pb4d220355c)\" d=\"M 147.735543 387.72 \r\nL 168.026452 387.72 \r\nL 168.026452 312.538492 \r\nL 147.735543 312.538492 \r\nz\r\n\" style=\"fill:#3572c6;\"/>\r\n   </g>\r\n   <g id=\"patch_7\">\r\n    <path clip-path=\"url(#pb4d220355c)\" d=\"M 168.026452 387.72 \r\nL 188.317361 387.72 \r\nL 188.317361 228.875504 \r\nL 168.026452 228.875504 \r\nz\r\n\" style=\"fill:#3572c6;\"/>\r\n   </g>\r\n   <g id=\"patch_8\">\r\n    <path clip-path=\"url(#pb4d220355c)\" d=\"M 188.317361 387.72 \r\nL 208.60827 387.72 \r\nL 208.60827 211.546062 \r\nL 188.317361 211.546062 \r\nz\r\n\" style=\"fill:#3572c6;\"/>\r\n   </g>\r\n   <g id=\"patch_9\">\r\n    <path clip-path=\"url(#pb4d220355c)\" d=\"M 208.60827 387.72 \r\nL 228.899179 387.72 \r\nL 228.899179 214.975302 \r\nL 208.60827 214.975302 \r\nz\r\n\" style=\"fill:#3572c6;\"/>\r\n   </g>\r\n   <g id=\"patch_10\">\r\n    <path clip-path=\"url(#pb4d220355c)\" d=\"M 228.899179 387.72 \r\nL 249.190088 387.72 \r\nL 249.190088 178.798128 \r\nL 228.899179 178.798128 \r\nz\r\n\" style=\"fill:#3572c6;\"/>\r\n   </g>\r\n   <g id=\"patch_11\">\r\n    <path clip-path=\"url(#pb4d220355c)\" d=\"M 249.190088 387.72 \r\nL 269.480997 387.72 \r\nL 269.480997 143.484808 \r\nL 249.190088 143.484808 \r\nz\r\n\" style=\"fill:#3572c6;\"/>\r\n   </g>\r\n   <g id=\"patch_12\">\r\n    <path clip-path=\"url(#pb4d220355c)\" d=\"M 269.480997 387.72 \r\nL 289.771906 387.72 \r\nL 289.771906 143.380098 \r\nL 269.480997 143.380098 \r\nz\r\n\" style=\"fill:#3572c6;\"/>\r\n   </g>\r\n   <g id=\"patch_13\">\r\n    <path clip-path=\"url(#pb4d220355c)\" d=\"M 289.771906 387.72 \r\nL 310.062815 387.72 \r\nL 310.062815 56.916128 \r\nL 289.771906 56.916128 \r\nz\r\n\" style=\"fill:#3572c6;\"/>\r\n   </g>\r\n   <g id=\"patch_14\">\r\n    <path clip-path=\"url(#pb4d220355c)\" d=\"M 310.062815 387.72 \r\nL 330.353724 387.72 \r\nL 330.353724 25.32 \r\nL 310.062815 25.32 \r\nz\r\n\" style=\"fill:#3572c6;\"/>\r\n   </g>\r\n   <g id=\"patch_15\">\r\n    <path clip-path=\"url(#pb4d220355c)\" d=\"M 330.353724 387.72 \r\nL 350.644634 387.72 \r\nL 350.644634 60.057417 \r\nL 330.353724 60.057417 \r\nz\r\n\" style=\"fill:#3572c6;\"/>\r\n   </g>\r\n   <g id=\"patch_16\">\r\n    <path clip-path=\"url(#pb4d220355c)\" d=\"M 350.644634 387.72 \r\nL 370.935543 387.72 \r\nL 370.935543 171.154325 \r\nL 350.644634 171.154325 \r\nz\r\n\" style=\"fill:#3572c6;\"/>\r\n   </g>\r\n   <g id=\"patch_17\">\r\n    <path clip-path=\"url(#pb4d220355c)\" d=\"M 370.935543 387.72 \r\nL 391.226452 387.72 \r\nL 391.226452 226.074522 \r\nL 370.935543 226.074522 \r\nz\r\n\" style=\"fill:#3572c6;\"/>\r\n   </g>\r\n   <g id=\"patch_18\">\r\n    <path clip-path=\"url(#pb4d220355c)\" d=\"M 391.226452 387.72 \r\nL 411.517361 387.72 \r\nL 411.517361 293.010147 \r\nL 391.226452 293.010147 \r\nz\r\n\" style=\"fill:#3572c6;\"/>\r\n   </g>\r\n   <g id=\"patch_19\">\r\n    <path clip-path=\"url(#pb4d220355c)\" d=\"M 411.517361 387.72 \r\nL 431.80827 387.72 \r\nL 431.80827 353.872615 \r\nL 411.517361 353.872615 \r\nz\r\n\" style=\"fill:#3572c6;\"/>\r\n   </g>\r\n   <g id=\"patch_20\">\r\n    <path clip-path=\"url(#pb4d220355c)\" d=\"M 431.80827 387.72 \r\nL 452.099179 387.72 \r\nL 452.099179 371.385299 \r\nL 431.80827 371.385299 \r\nz\r\n\" style=\"fill:#3572c6;\"/>\r\n   </g>\r\n   <g id=\"patch_21\">\r\n    <path clip-path=\"url(#pb4d220355c)\" d=\"M 452.099179 387.72 \r\nL 472.390088 387.72 \r\nL 472.390088 381.908616 \r\nL 452.099179 381.908616 \r\nz\r\n\" style=\"fill:#3572c6;\"/>\r\n   </g>\r\n   <g id=\"patch_22\">\r\n    <path clip-path=\"url(#pb4d220355c)\" d=\"M 472.390088 387.72 \r\nL 492.680997 387.72 \r\nL 492.680997 386.803791 \r\nL 472.390088 386.803791 \r\nz\r\n\" style=\"fill:#3572c6;\"/>\r\n   </g>\r\n   <g id=\"matplotlib.axis_1\">\r\n    <g id=\"xtick_1\">\r\n     <g id=\"line2d_1\">\r\n      <path clip-path=\"url(#pb4d220355c)\" d=\"M 82.545601 387.72 \r\nL 82.545601 7.2 \r\n\" style=\"fill:none;stroke:#546379;stroke-linecap:square;stroke-width:1.4;\"/>\r\n     </g>\r\n     <g id=\"line2d_2\"/>\r\n     <g id=\"text_1\">\r\n      <!-- 0 -->\r\n      <defs>\r\n       <path d=\"M 4.15625 35.296875 \r\nQ 4.15625 48 6.765625 55.734375 \r\nQ 9.375 63.484375 14.515625 67.671875 \r\nQ 19.671875 71.875 27.484375 71.875 \r\nQ 33.25 71.875 37.59375 69.546875 \r\nQ 41.9375 67.234375 44.765625 62.859375 \r\nQ 47.609375 58.5 49.21875 52.21875 \r\nQ 50.828125 45.953125 50.828125 35.296875 \r\nQ 50.828125 22.703125 48.234375 14.96875 \r\nQ 45.65625 7.234375 40.5 3 \r\nQ 35.359375 -1.21875 27.484375 -1.21875 \r\nQ 17.140625 -1.21875 11.234375 6.203125 \r\nQ 4.15625 15.140625 4.15625 35.296875 \r\nz\r\nM 13.1875 35.296875 \r\nQ 13.1875 17.671875 17.3125 11.828125 \r\nQ 21.4375 6 27.484375 6 \r\nQ 33.546875 6 37.671875 11.859375 \r\nQ 41.796875 17.71875 41.796875 35.296875 \r\nQ 41.796875 52.984375 37.671875 58.78125 \r\nQ 33.546875 64.59375 27.390625 64.59375 \r\nQ 21.34375 64.59375 17.71875 59.46875 \r\nQ 13.1875 52.9375 13.1875 35.296875 \r\nz\r\n\" id=\"ArialMT-48\"/>\r\n      </defs>\r\n      <g style=\"fill:#b1bed6;\" transform=\"translate(79.04221 403.738844)scale(0.126 -0.126)\">\r\n       <use xlink:href=\"#ArialMT-48\"/>\r\n      </g>\r\n     </g>\r\n    </g>\r\n    <g id=\"xtick_2\">\r\n     <g id=\"line2d_3\">\r\n      <path clip-path=\"url(#pb4d220355c)\" d=\"M 168.889895 387.72 \r\nL 168.889895 7.2 \r\n\" style=\"fill:none;stroke:#546379;stroke-linecap:square;stroke-width:1.4;\"/>\r\n     </g>\r\n     <g id=\"line2d_4\"/>\r\n     <g id=\"text_2\">\r\n      <!-- 20 -->\r\n      <defs>\r\n       <path d=\"M 50.34375 8.453125 \r\nL 50.34375 0 \r\nL 3.03125 0 \r\nQ 2.9375 3.171875 4.046875 6.109375 \r\nQ 5.859375 10.9375 9.828125 15.625 \r\nQ 13.8125 20.3125 21.34375 26.46875 \r\nQ 33.015625 36.03125 37.109375 41.625 \r\nQ 41.21875 47.21875 41.21875 52.203125 \r\nQ 41.21875 57.421875 37.46875 61 \r\nQ 33.734375 64.59375 27.734375 64.59375 \r\nQ 21.390625 64.59375 17.578125 60.78125 \r\nQ 13.765625 56.984375 13.71875 50.25 \r\nL 4.6875 51.171875 \r\nQ 5.609375 61.28125 11.65625 66.578125 \r\nQ 17.71875 71.875 27.9375 71.875 \r\nQ 38.234375 71.875 44.234375 66.15625 \r\nQ 50.25 60.453125 50.25 52 \r\nQ 50.25 47.703125 48.484375 43.546875 \r\nQ 46.734375 39.40625 42.65625 34.8125 \r\nQ 38.578125 30.21875 29.109375 22.21875 \r\nQ 21.1875 15.578125 18.9375 13.203125 \r\nQ 16.703125 10.84375 15.234375 8.453125 \r\nz\r\n\" id=\"ArialMT-50\"/>\r\n      </defs>\r\n      <g style=\"fill:#b1bed6;\" transform=\"translate(161.883113 403.738844)scale(0.126 -0.126)\">\r\n       <use xlink:href=\"#ArialMT-50\"/>\r\n       <use x=\"55.615234\" xlink:href=\"#ArialMT-48\"/>\r\n      </g>\r\n     </g>\r\n    </g>\r\n    <g id=\"xtick_3\">\r\n     <g id=\"line2d_5\">\r\n      <path clip-path=\"url(#pb4d220355c)\" d=\"M 255.234189 387.72 \r\nL 255.234189 7.2 \r\n\" style=\"fill:none;stroke:#546379;stroke-linecap:square;stroke-width:1.4;\"/>\r\n     </g>\r\n     <g id=\"line2d_6\"/>\r\n     <g id=\"text_3\">\r\n      <!-- 40 -->\r\n      <defs>\r\n       <path d=\"M 32.328125 0 \r\nL 32.328125 17.140625 \r\nL 1.265625 17.140625 \r\nL 1.265625 25.203125 \r\nL 33.9375 71.578125 \r\nL 41.109375 71.578125 \r\nL 41.109375 25.203125 \r\nL 50.78125 25.203125 \r\nL 50.78125 17.140625 \r\nL 41.109375 17.140625 \r\nL 41.109375 0 \r\nz\r\nM 32.328125 25.203125 \r\nL 32.328125 57.46875 \r\nL 9.90625 25.203125 \r\nz\r\n\" id=\"ArialMT-52\"/>\r\n      </defs>\r\n      <g style=\"fill:#b1bed6;\" transform=\"translate(248.227407 403.738844)scale(0.126 -0.126)\">\r\n       <use xlink:href=\"#ArialMT-52\"/>\r\n       <use x=\"55.615234\" xlink:href=\"#ArialMT-48\"/>\r\n      </g>\r\n     </g>\r\n    </g>\r\n    <g id=\"xtick_4\">\r\n     <g id=\"line2d_7\">\r\n      <path clip-path=\"url(#pb4d220355c)\" d=\"M 341.578483 387.72 \r\nL 341.578483 7.2 \r\n\" style=\"fill:none;stroke:#546379;stroke-linecap:square;stroke-width:1.4;\"/>\r\n     </g>\r\n     <g id=\"line2d_8\"/>\r\n     <g id=\"text_4\">\r\n      <!-- 60 -->\r\n      <defs>\r\n       <path d=\"M 49.75 54.046875 \r\nL 41.015625 53.375 \r\nQ 39.84375 58.546875 37.703125 60.890625 \r\nQ 34.125 64.65625 28.90625 64.65625 \r\nQ 24.703125 64.65625 21.53125 62.3125 \r\nQ 17.390625 59.28125 14.984375 53.46875 \r\nQ 12.59375 47.65625 12.5 36.921875 \r\nQ 15.671875 41.75 20.265625 44.09375 \r\nQ 24.859375 46.4375 29.890625 46.4375 \r\nQ 38.671875 46.4375 44.84375 39.96875 \r\nQ 51.03125 33.5 51.03125 23.25 \r\nQ 51.03125 16.5 48.125 10.71875 \r\nQ 45.21875 4.9375 40.140625 1.859375 \r\nQ 35.0625 -1.21875 28.609375 -1.21875 \r\nQ 17.625 -1.21875 10.6875 6.859375 \r\nQ 3.765625 14.9375 3.765625 33.5 \r\nQ 3.765625 54.25 11.421875 63.671875 \r\nQ 18.109375 71.875 29.4375 71.875 \r\nQ 37.890625 71.875 43.28125 67.140625 \r\nQ 48.6875 62.40625 49.75 54.046875 \r\nz\r\nM 13.875 23.1875 \r\nQ 13.875 18.65625 15.796875 14.5 \r\nQ 17.71875 10.359375 21.1875 8.171875 \r\nQ 24.65625 6 28.46875 6 \r\nQ 34.03125 6 38.03125 10.484375 \r\nQ 42.046875 14.984375 42.046875 22.703125 \r\nQ 42.046875 30.125 38.078125 34.390625 \r\nQ 34.125 38.671875 28.125 38.671875 \r\nQ 22.171875 38.671875 18.015625 34.390625 \r\nQ 13.875 30.125 13.875 23.1875 \r\nz\r\n\" id=\"ArialMT-54\"/>\r\n      </defs>\r\n      <g style=\"fill:#b1bed6;\" transform=\"translate(334.571701 403.738844)scale(0.126 -0.126)\">\r\n       <use xlink:href=\"#ArialMT-54\"/>\r\n       <use x=\"55.615234\" xlink:href=\"#ArialMT-48\"/>\r\n      </g>\r\n     </g>\r\n    </g>\r\n    <g id=\"xtick_5\">\r\n     <g id=\"line2d_9\">\r\n      <path clip-path=\"url(#pb4d220355c)\" d=\"M 427.922777 387.72 \r\nL 427.922777 7.2 \r\n\" style=\"fill:none;stroke:#546379;stroke-linecap:square;stroke-width:1.4;\"/>\r\n     </g>\r\n     <g id=\"line2d_10\"/>\r\n     <g id=\"text_5\">\r\n      <!-- 80 -->\r\n      <defs>\r\n       <path d=\"M 17.671875 38.8125 \r\nQ 12.203125 40.828125 9.5625 44.53125 \r\nQ 6.9375 48.25 6.9375 53.421875 \r\nQ 6.9375 61.234375 12.546875 66.546875 \r\nQ 18.171875 71.875 27.484375 71.875 \r\nQ 36.859375 71.875 42.578125 66.421875 \r\nQ 48.296875 60.984375 48.296875 53.171875 \r\nQ 48.296875 48.1875 45.671875 44.5 \r\nQ 43.0625 40.828125 37.75 38.8125 \r\nQ 44.34375 36.671875 47.78125 31.875 \r\nQ 51.21875 27.09375 51.21875 20.453125 \r\nQ 51.21875 11.28125 44.71875 5.03125 \r\nQ 38.234375 -1.21875 27.640625 -1.21875 \r\nQ 17.046875 -1.21875 10.546875 5.046875 \r\nQ 4.046875 11.328125 4.046875 20.703125 \r\nQ 4.046875 27.6875 7.59375 32.390625 \r\nQ 11.140625 37.109375 17.671875 38.8125 \r\nz\r\nM 15.921875 53.71875 \r\nQ 15.921875 48.640625 19.1875 45.40625 \r\nQ 22.46875 42.1875 27.6875 42.1875 \r\nQ 32.765625 42.1875 36.015625 45.375 \r\nQ 39.265625 48.578125 39.265625 53.21875 \r\nQ 39.265625 58.0625 35.90625 61.359375 \r\nQ 32.5625 64.65625 27.59375 64.65625 \r\nQ 22.5625 64.65625 19.234375 61.421875 \r\nQ 15.921875 58.203125 15.921875 53.71875 \r\nz\r\nM 13.09375 20.65625 \r\nQ 13.09375 16.890625 14.875 13.375 \r\nQ 16.65625 9.859375 20.171875 7.921875 \r\nQ 23.6875 6 27.734375 6 \r\nQ 34.03125 6 38.125 10.046875 \r\nQ 42.234375 14.109375 42.234375 20.359375 \r\nQ 42.234375 26.703125 38.015625 30.859375 \r\nQ 33.796875 35.015625 27.4375 35.015625 \r\nQ 21.234375 35.015625 17.15625 30.90625 \r\nQ 13.09375 26.8125 13.09375 20.65625 \r\nz\r\n\" id=\"ArialMT-56\"/>\r\n      </defs>\r\n      <g style=\"fill:#b1bed6;\" transform=\"translate(420.915995 403.738844)scale(0.126 -0.126)\">\r\n       <use xlink:href=\"#ArialMT-56\"/>\r\n       <use x=\"55.615234\" xlink:href=\"#ArialMT-48\"/>\r\n      </g>\r\n     </g>\r\n    </g>\r\n   </g>\r\n   <g id=\"matplotlib.axis_2\">\r\n    <g id=\"ytick_1\">\r\n     <g id=\"line2d_11\">\r\n      <path clip-path=\"url(#pb4d220355c)\" d=\"M 66.571906 387.72 \r\nL 512.971906 387.72 \r\n\" style=\"fill:none;stroke:#546379;stroke-linecap:square;stroke-width:1.4;\"/>\r\n     </g>\r\n     <g id=\"line2d_12\"/>\r\n     <g id=\"text_6\">\r\n      <!-- 0 -->\r\n      <g style=\"fill:#b1bed6;\" transform=\"translate(52.565125 392.229422)scale(0.126 -0.126)\">\r\n       <use xlink:href=\"#ArialMT-48\"/>\r\n      </g>\r\n     </g>\r\n    </g>\r\n    <g id=\"ytick_2\">\r\n     <g id=\"line2d_13\">\r\n      <path clip-path=\"url(#pb4d220355c)\" d=\"M 66.571906 335.365189 \r\nL 512.971906 335.365189 \r\n\" style=\"fill:none;stroke:#546379;stroke-linecap:square;stroke-width:1.4;\"/>\r\n     </g>\r\n     <g id=\"line2d_14\"/>\r\n     <g id=\"text_7\">\r\n      <!-- 2000 -->\r\n      <g style=\"fill:#b1bed6;\" transform=\"translate(31.544781 339.874611)scale(0.126 -0.126)\">\r\n       <use xlink:href=\"#ArialMT-50\"/>\r\n       <use x=\"55.615234\" xlink:href=\"#ArialMT-48\"/>\r\n       <use x=\"111.230469\" xlink:href=\"#ArialMT-48\"/>\r\n       <use x=\"166.845703\" xlink:href=\"#ArialMT-48\"/>\r\n      </g>\r\n     </g>\r\n    </g>\r\n    <g id=\"ytick_3\">\r\n     <g id=\"line2d_15\">\r\n      <path clip-path=\"url(#pb4d220355c)\" d=\"M 66.571906 283.010379 \r\nL 512.971906 283.010379 \r\n\" style=\"fill:none;stroke:#546379;stroke-linecap:square;stroke-width:1.4;\"/>\r\n     </g>\r\n     <g id=\"line2d_16\"/>\r\n     <g id=\"text_8\">\r\n      <!-- 4000 -->\r\n      <g style=\"fill:#b1bed6;\" transform=\"translate(31.544781 287.5198)scale(0.126 -0.126)\">\r\n       <use xlink:href=\"#ArialMT-52\"/>\r\n       <use x=\"55.615234\" xlink:href=\"#ArialMT-48\"/>\r\n       <use x=\"111.230469\" xlink:href=\"#ArialMT-48\"/>\r\n       <use x=\"166.845703\" xlink:href=\"#ArialMT-48\"/>\r\n      </g>\r\n     </g>\r\n    </g>\r\n    <g id=\"ytick_4\">\r\n     <g id=\"line2d_17\">\r\n      <path clip-path=\"url(#pb4d220355c)\" d=\"M 66.571906 230.655568 \r\nL 512.971906 230.655568 \r\n\" style=\"fill:none;stroke:#546379;stroke-linecap:square;stroke-width:1.4;\"/>\r\n     </g>\r\n     <g id=\"line2d_18\"/>\r\n     <g id=\"text_9\">\r\n      <!-- 6000 -->\r\n      <g style=\"fill:#b1bed6;\" transform=\"translate(31.544781 235.16499)scale(0.126 -0.126)\">\r\n       <use xlink:href=\"#ArialMT-54\"/>\r\n       <use x=\"55.615234\" xlink:href=\"#ArialMT-48\"/>\r\n       <use x=\"111.230469\" xlink:href=\"#ArialMT-48\"/>\r\n       <use x=\"166.845703\" xlink:href=\"#ArialMT-48\"/>\r\n      </g>\r\n     </g>\r\n    </g>\r\n    <g id=\"ytick_5\">\r\n     <g id=\"line2d_19\">\r\n      <path clip-path=\"url(#pb4d220355c)\" d=\"M 66.571906 178.300757 \r\nL 512.971906 178.300757 \r\n\" style=\"fill:none;stroke:#546379;stroke-linecap:square;stroke-width:1.4;\"/>\r\n     </g>\r\n     <g id=\"line2d_20\"/>\r\n     <g id=\"text_10\">\r\n      <!-- 8000 -->\r\n      <g style=\"fill:#b1bed6;\" transform=\"translate(31.544781 182.810179)scale(0.126 -0.126)\">\r\n       <use xlink:href=\"#ArialMT-56\"/>\r\n       <use x=\"55.615234\" xlink:href=\"#ArialMT-48\"/>\r\n       <use x=\"111.230469\" xlink:href=\"#ArialMT-48\"/>\r\n       <use x=\"166.845703\" xlink:href=\"#ArialMT-48\"/>\r\n      </g>\r\n     </g>\r\n    </g>\r\n    <g id=\"ytick_6\">\r\n     <g id=\"line2d_21\">\r\n      <path clip-path=\"url(#pb4d220355c)\" d=\"M 66.571906 125.945946 \r\nL 512.971906 125.945946 \r\n\" style=\"fill:none;stroke:#546379;stroke-linecap:square;stroke-width:1.4;\"/>\r\n     </g>\r\n     <g id=\"line2d_22\"/>\r\n     <g id=\"text_11\">\r\n      <!-- 10000 -->\r\n      <defs>\r\n       <path d=\"M 37.25 0 \r\nL 28.46875 0 \r\nL 28.46875 56 \r\nQ 25.296875 52.984375 20.140625 49.953125 \r\nQ 14.984375 46.921875 10.890625 45.40625 \r\nL 10.890625 53.90625 \r\nQ 18.265625 57.375 23.78125 62.296875 \r\nQ 29.296875 67.234375 31.59375 71.875 \r\nL 37.25 71.875 \r\nz\r\n\" id=\"ArialMT-49\"/>\r\n      </defs>\r\n      <g style=\"fill:#b1bed6;\" transform=\"translate(24.538 130.455368)scale(0.126 -0.126)\">\r\n       <use xlink:href=\"#ArialMT-49\"/>\r\n       <use x=\"55.615234\" xlink:href=\"#ArialMT-48\"/>\r\n       <use x=\"111.230469\" xlink:href=\"#ArialMT-48\"/>\r\n       <use x=\"166.845703\" xlink:href=\"#ArialMT-48\"/>\r\n       <use x=\"222.460938\" xlink:href=\"#ArialMT-48\"/>\r\n      </g>\r\n     </g>\r\n    </g>\r\n    <g id=\"ytick_7\">\r\n     <g id=\"line2d_23\">\r\n      <path clip-path=\"url(#pb4d220355c)\" d=\"M 66.571906 73.591136 \r\nL 512.971906 73.591136 \r\n\" style=\"fill:none;stroke:#546379;stroke-linecap:square;stroke-width:1.4;\"/>\r\n     </g>\r\n     <g id=\"line2d_24\"/>\r\n     <g id=\"text_12\">\r\n      <!-- 12000 -->\r\n      <g style=\"fill:#b1bed6;\" transform=\"translate(24.538 78.100557)scale(0.126 -0.126)\">\r\n       <use xlink:href=\"#ArialMT-49\"/>\r\n       <use x=\"55.615234\" xlink:href=\"#ArialMT-50\"/>\r\n       <use x=\"111.230469\" xlink:href=\"#ArialMT-48\"/>\r\n       <use x=\"166.845703\" xlink:href=\"#ArialMT-48\"/>\r\n       <use x=\"222.460938\" xlink:href=\"#ArialMT-48\"/>\r\n      </g>\r\n     </g>\r\n    </g>\r\n    <g id=\"ytick_8\">\r\n     <g id=\"line2d_25\">\r\n      <path clip-path=\"url(#pb4d220355c)\" d=\"M 66.571906 21.236325 \r\nL 512.971906 21.236325 \r\n\" style=\"fill:none;stroke:#546379;stroke-linecap:square;stroke-width:1.4;\"/>\r\n     </g>\r\n     <g id=\"line2d_26\"/>\r\n     <g id=\"text_13\">\r\n      <!-- 14000 -->\r\n      <g style=\"fill:#b1bed6;\" transform=\"translate(24.538 25.745747)scale(0.126 -0.126)\">\r\n       <use xlink:href=\"#ArialMT-49\"/>\r\n       <use x=\"55.615234\" xlink:href=\"#ArialMT-52\"/>\r\n       <use x=\"111.230469\" xlink:href=\"#ArialMT-48\"/>\r\n       <use x=\"166.845703\" xlink:href=\"#ArialMT-48\"/>\r\n       <use x=\"222.460938\" xlink:href=\"#ArialMT-48\"/>\r\n      </g>\r\n     </g>\r\n    </g>\r\n    <g id=\"text_14\">\r\n     <!-- Frequency -->\r\n     <defs>\r\n      <path d=\"M 8.203125 0 \r\nL 8.203125 71.578125 \r\nL 56.5 71.578125 \r\nL 56.5 63.140625 \r\nL 17.671875 63.140625 \r\nL 17.671875 40.96875 \r\nL 51.265625 40.96875 \r\nL 51.265625 32.515625 \r\nL 17.671875 32.515625 \r\nL 17.671875 0 \r\nz\r\n\" id=\"ArialMT-70\"/>\r\n      <path d=\"M 6.5 0 \r\nL 6.5 51.859375 \r\nL 14.40625 51.859375 \r\nL 14.40625 44 \r\nQ 17.4375 49.515625 20 51.265625 \r\nQ 22.5625 53.03125 25.640625 53.03125 \r\nQ 30.078125 53.03125 34.671875 50.203125 \r\nL 31.640625 42.046875 \r\nQ 28.421875 43.953125 25.203125 43.953125 \r\nQ 22.3125 43.953125 20.015625 42.21875 \r\nQ 17.71875 40.484375 16.75 37.40625 \r\nQ 15.28125 32.71875 15.28125 27.15625 \r\nL 15.28125 0 \r\nz\r\n\" id=\"ArialMT-114\"/>\r\n      <path d=\"M 42.09375 16.703125 \r\nL 51.171875 15.578125 \r\nQ 49.03125 7.625 43.21875 3.21875 \r\nQ 37.40625 -1.171875 28.375 -1.171875 \r\nQ 17 -1.171875 10.328125 5.828125 \r\nQ 3.65625 12.84375 3.65625 25.484375 \r\nQ 3.65625 38.578125 10.390625 45.796875 \r\nQ 17.140625 53.03125 27.875 53.03125 \r\nQ 38.28125 53.03125 44.875 45.953125 \r\nQ 51.46875 38.875 51.46875 26.03125 \r\nQ 51.46875 25.25 51.421875 23.6875 \r\nL 12.75 23.6875 \r\nQ 13.234375 15.140625 17.578125 10.59375 \r\nQ 21.921875 6.0625 28.421875 6.0625 \r\nQ 33.25 6.0625 36.671875 8.59375 \r\nQ 40.09375 11.140625 42.09375 16.703125 \r\nz\r\nM 13.234375 30.90625 \r\nL 42.1875 30.90625 \r\nQ 41.609375 37.453125 38.875 40.71875 \r\nQ 34.671875 45.796875 27.984375 45.796875 \r\nQ 21.921875 45.796875 17.796875 41.75 \r\nQ 13.671875 37.703125 13.234375 30.90625 \r\nz\r\n\" id=\"ArialMT-101\"/>\r\n      <path d=\"M 39.65625 -19.875 \r\nL 39.65625 5.515625 \r\nQ 37.59375 2.640625 33.90625 0.734375 \r\nQ 30.21875 -1.171875 26.078125 -1.171875 \r\nQ 16.84375 -1.171875 10.171875 6.203125 \r\nQ 3.515625 13.578125 3.515625 26.421875 \r\nQ 3.515625 34.234375 6.21875 40.421875 \r\nQ 8.9375 46.625 14.078125 49.828125 \r\nQ 19.234375 53.03125 25.390625 53.03125 \r\nQ 35.015625 53.03125 40.53125 44.921875 \r\nL 40.53125 51.859375 \r\nL 48.4375 51.859375 \r\nL 48.4375 -19.875 \r\nz\r\nM 12.546875 26.078125 \r\nQ 12.546875 16.0625 16.75 11.0625 \r\nQ 20.953125 6.0625 26.8125 6.0625 \r\nQ 32.421875 6.0625 36.46875 10.8125 \r\nQ 40.53125 15.578125 40.53125 25.296875 \r\nQ 40.53125 35.640625 36.25 40.859375 \r\nQ 31.984375 46.09375 26.21875 46.09375 \r\nQ 20.515625 46.09375 16.53125 41.234375 \r\nQ 12.546875 36.375 12.546875 26.078125 \r\nz\r\n\" id=\"ArialMT-113\"/>\r\n      <path d=\"M 40.578125 0 \r\nL 40.578125 7.625 \r\nQ 34.515625 -1.171875 24.125 -1.171875 \r\nQ 19.53125 -1.171875 15.546875 0.578125 \r\nQ 11.578125 2.34375 9.640625 5 \r\nQ 7.71875 7.671875 6.9375 11.53125 \r\nQ 6.390625 14.109375 6.390625 19.734375 \r\nL 6.390625 51.859375 \r\nL 15.1875 51.859375 \r\nL 15.1875 23.09375 \r\nQ 15.1875 16.21875 15.71875 13.8125 \r\nQ 16.546875 10.359375 19.234375 8.375 \r\nQ 21.921875 6.390625 25.875 6.390625 \r\nQ 29.828125 6.390625 33.296875 8.421875 \r\nQ 36.765625 10.453125 38.203125 13.9375 \r\nQ 39.65625 17.4375 39.65625 24.078125 \r\nL 39.65625 51.859375 \r\nL 48.4375 51.859375 \r\nL 48.4375 0 \r\nz\r\n\" id=\"ArialMT-117\"/>\r\n      <path d=\"M 6.59375 0 \r\nL 6.59375 51.859375 \r\nL 14.5 51.859375 \r\nL 14.5 44.484375 \r\nQ 20.21875 53.03125 31 53.03125 \r\nQ 35.6875 53.03125 39.625 51.34375 \r\nQ 43.5625 49.65625 45.515625 46.921875 \r\nQ 47.46875 44.1875 48.25 40.4375 \r\nQ 48.734375 37.984375 48.734375 31.890625 \r\nL 48.734375 0 \r\nL 39.9375 0 \r\nL 39.9375 31.546875 \r\nQ 39.9375 36.921875 38.90625 39.578125 \r\nQ 37.890625 42.234375 35.28125 43.8125 \r\nQ 32.671875 45.40625 29.15625 45.40625 \r\nQ 23.53125 45.40625 19.453125 41.84375 \r\nQ 15.375 38.28125 15.375 28.328125 \r\nL 15.375 0 \r\nz\r\n\" id=\"ArialMT-110\"/>\r\n      <path d=\"M 40.4375 19 \r\nL 49.078125 17.875 \r\nQ 47.65625 8.9375 41.8125 3.875 \r\nQ 35.984375 -1.171875 27.484375 -1.171875 \r\nQ 16.84375 -1.171875 10.375 5.78125 \r\nQ 3.90625 12.75 3.90625 25.734375 \r\nQ 3.90625 34.125 6.6875 40.421875 \r\nQ 9.46875 46.734375 15.15625 49.875 \r\nQ 20.84375 53.03125 27.546875 53.03125 \r\nQ 35.984375 53.03125 41.359375 48.75 \r\nQ 46.734375 44.484375 48.25 36.625 \r\nL 39.703125 35.296875 \r\nQ 38.484375 40.53125 35.375 43.15625 \r\nQ 32.28125 45.796875 27.875 45.796875 \r\nQ 21.234375 45.796875 17.078125 41.03125 \r\nQ 12.9375 36.28125 12.9375 25.984375 \r\nQ 12.9375 15.53125 16.9375 10.796875 \r\nQ 20.953125 6.0625 27.390625 6.0625 \r\nQ 32.5625 6.0625 36.03125 9.234375 \r\nQ 39.5 12.40625 40.4375 19 \r\nz\r\n\" id=\"ArialMT-99\"/>\r\n      <path d=\"M 6.203125 -19.96875 \r\nL 5.21875 -11.71875 \r\nQ 8.109375 -12.5 10.25 -12.5 \r\nQ 13.1875 -12.5 14.9375 -11.515625 \r\nQ 16.703125 -10.546875 17.828125 -8.796875 \r\nQ 18.65625 -7.46875 20.515625 -2.25 \r\nQ 20.75 -1.515625 21.296875 -0.09375 \r\nL 1.609375 51.859375 \r\nL 11.078125 51.859375 \r\nL 21.875 21.828125 \r\nQ 23.96875 16.109375 25.640625 9.8125 \r\nQ 27.15625 15.875 29.25 21.625 \r\nL 40.328125 51.859375 \r\nL 49.125 51.859375 \r\nL 29.390625 -0.875 \r\nQ 26.21875 -9.421875 24.46875 -12.640625 \r\nQ 22.125 -17 19.09375 -19.015625 \r\nQ 16.0625 -21.046875 11.859375 -21.046875 \r\nQ 9.328125 -21.046875 6.203125 -19.96875 \r\nz\r\n\" id=\"ArialMT-121\"/>\r\n     </defs>\r\n     <g style=\"fill:#b1bed6;\" transform=\"translate(17.50725 231.474375)rotate(-90)scale(0.144 -0.144)\">\r\n      <use xlink:href=\"#ArialMT-70\"/>\r\n      <use x=\"61.083984\" xlink:href=\"#ArialMT-114\"/>\r\n      <use x=\"94.384766\" xlink:href=\"#ArialMT-101\"/>\r\n      <use x=\"150\" xlink:href=\"#ArialMT-113\"/>\r\n      <use x=\"205.615234\" xlink:href=\"#ArialMT-117\"/>\r\n      <use x=\"261.230469\" xlink:href=\"#ArialMT-101\"/>\r\n      <use x=\"316.845703\" xlink:href=\"#ArialMT-110\"/>\r\n      <use x=\"372.460938\" xlink:href=\"#ArialMT-99\"/>\r\n      <use x=\"422.460938\" xlink:href=\"#ArialMT-121\"/>\r\n     </g>\r\n    </g>\r\n   </g>\r\n   <g id=\"patch_23\">\r\n    <path d=\"M 66.571906 387.72 \r\nL 66.571906 7.2 \r\n\" style=\"fill:none;stroke:#899ab8;stroke-linecap:square;stroke-linejoin:miter;stroke-width:1.4;\"/>\r\n   </g>\r\n   <g id=\"patch_24\">\r\n    <path d=\"M 512.971906 387.72 \r\nL 512.971906 7.2 \r\n\" style=\"fill:none;stroke:#899ab8;stroke-linecap:square;stroke-linejoin:miter;stroke-width:1.4;\"/>\r\n   </g>\r\n   <g id=\"patch_25\">\r\n    <path d=\"M 66.571906 387.72 \r\nL 512.971906 387.72 \r\n\" style=\"fill:none;stroke:#899ab8;stroke-linecap:square;stroke-linejoin:miter;stroke-width:1.4;\"/>\r\n   </g>\r\n   <g id=\"patch_26\">\r\n    <path d=\"M 66.571906 7.2 \r\nL 512.971906 7.2 \r\n\" style=\"fill:none;stroke:#899ab8;stroke-linecap:square;stroke-linejoin:miter;stroke-width:1.4;\"/>\r\n   </g>\r\n  </g>\r\n </g>\r\n <defs>\r\n  <clipPath id=\"pb4d220355c\">\r\n   <rect height=\"380.52\" width=\"446.4\" x=\"66.571906\" y=\"7.2\"/>\r\n  </clipPath>\r\n </defs>\r\n</svg>\r\n",
      "image/png": "[encoded data removed]"
     },
     "metadata": {}
    }
   ],
   "source": [
    "clean_data = data[data[\"Patient Age\"] < 100]\n",
    "print(f\"\"\"Mean age of patients: {clean_data[\"Patient Age\"].mean()}\"\"\")\n",
    "clean_data[\"Patient Age\"].plot.hist(bins=20);"
   ]
  },
  {
   "cell_type": "markdown",
   "metadata": {},
   "source": [
    "### Finding label\n",
    "The `Finding Labels` column contains 1 to many possible labels that need to be split and encoded for each row. This might be easily done with sklearn [`One Hot Encoder`](https://scikit-learn.org/stable/modules/generated/sklearn.preprocessing.OneHotEncoder.html) or may have to be performed imperatively:"
   ]
  },
  {
   "cell_type": "code",
   "execution_count": 4,
   "metadata": {},
   "outputs": [
    {
     "output_type": "stream",
     "name": "stdout",
     "text": [
      "All labels:\n1. Fibrosis\n2. Edema\n3. Consolidation\n4. Hernia\n5. Infiltration\n6. Emphysema\n7. Mass\n8. No Finding\n9. Cardiomegaly\n10. Atelectasis\n11. Nodule\n12. Pneumothorax\n13. Pneumonia\n14. Pleural_Thickening\n15. Effusion\nTotal labels: 15\n"
     ]
    }
   ],
   "source": [
    "label_set = set()\n",
    "for labels in pd.unique(clean_data[\"Finding Labels\"]):\n",
    "    for label in labels.split(\"|\"):\n",
    "        label_set.add(label)\n",
    "\n",
    "print(\"All labels:\")\n",
    "for i, label in enumerate(label_set):\n",
    "    print(f\"{i + 1}. {label}\")\n",
    "print(f\"Total labels: {len(label_set)}\")\n",
    "    "
   ]
  },
  {
   "cell_type": "markdown",
   "metadata": {},
   "source": [
    "Consider that this will have to be done every time the data is loaded and it might be a good idea to generate a new CSV for future data use. There are other columns that can  potentially be dropped from the data as well, so this supports creating a \"clean\" CSV for further use."
   ]
  },
  {
   "cell_type": "markdown",
   "metadata": {},
   "source": [
    "### View Position\n",
    "This column has 2 possible values, `PA` or `AP` and can be converted to a 0 or 1 value."
   ]
  },
  {
   "cell_type": "code",
   "execution_count": 5,
   "metadata": {},
   "outputs": [
    {
     "output_type": "execute_result",
     "data": {
      "text/plain": [
       "2"
      ]
     },
     "metadata": {},
     "execution_count": 5
    }
   ],
   "source": [
    "len(pd.unique(clean_data[\"View Position\"]))"
   ]
  },
  {
   "cell_type": "markdown",
   "metadata": {},
   "source": [
    "### Bad images\n",
    "There are some images that are unusable for a variety of reasons. The [cxr14_bad_labels.csv](./dataset/cxr14_bad_labels.csv) contains a complete list of the images that cannot be used and the reasons for which they should be removed from the data."
   ]
  },
  {
   "cell_type": "code",
   "execution_count": 6,
   "metadata": {},
   "outputs": [
    {
     "output_type": "stream",
     "name": "stdout",
     "text": [
      "Total bad images: 432\n"
     ]
    },
    {
     "output_type": "execute_result",
     "data": {
      "text/plain": [
       "         File label  Inverted  Not frontal  Rotated\n",
       "0  00000583_024.png       1.0          0.0      0.0\n",
       "1  00002180_000.png       1.0          0.0      0.0\n",
       "2  00002300_026.png       1.0          0.0      0.0\n",
       "3  00002371_015.png       1.0          0.0      0.0\n",
       "4  00006209_001.png       1.0          0.0      0.0\n",
       "5  00007624_036.png       1.0          0.0      0.0\n",
       "6  00008051_036.png       1.0          0.0      0.0\n",
       "7  00009175_001.png       1.0          0.0      0.0\n",
       "8  00009628_004.png       1.0          0.0      0.0\n",
       "9  00010007_121.png       1.0          0.0      0.0"
      ],
      "text/html": "<div>\n<style scoped>\n    .dataframe tbody tr th:only-of-type {\n        vertical-align: middle;\n    }\n\n    .dataframe tbody tr th {\n        vertical-align: top;\n    }\n\n    .dataframe thead th {\n        text-align: right;\n    }\n</style>\n<table border=\"1\" class=\"dataframe\">\n  <thead>\n    <tr style=\"text-align: right;\">\n      <th></th>\n      <th>File label</th>\n      <th>Inverted</th>\n      <th>Not frontal</th>\n      <th>Rotated</th>\n    </tr>\n  </thead>\n  <tbody>\n    <tr>\n      <th>0</th>\n      <td>00000583_024.png</td>\n      <td>1.0</td>\n      <td>0.0</td>\n      <td>0.0</td>\n    </tr>\n    <tr>\n      <th>1</th>\n      <td>00002180_000.png</td>\n      <td>1.0</td>\n      <td>0.0</td>\n      <td>0.0</td>\n    </tr>\n    <tr>\n      <th>2</th>\n      <td>00002300_026.png</td>\n      <td>1.0</td>\n      <td>0.0</td>\n      <td>0.0</td>\n    </tr>\n    <tr>\n      <th>3</th>\n      <td>00002371_015.png</td>\n      <td>1.0</td>\n      <td>0.0</td>\n      <td>0.0</td>\n    </tr>\n    <tr>\n      <th>4</th>\n      <td>00006209_001.png</td>\n      <td>1.0</td>\n      <td>0.0</td>\n      <td>0.0</td>\n    </tr>\n    <tr>\n      <th>5</th>\n      <td>00007624_036.png</td>\n      <td>1.0</td>\n      <td>0.0</td>\n      <td>0.0</td>\n    </tr>\n    <tr>\n      <th>6</th>\n      <td>00008051_036.png</td>\n      <td>1.0</td>\n      <td>0.0</td>\n      <td>0.0</td>\n    </tr>\n    <tr>\n      <th>7</th>\n      <td>00009175_001.png</td>\n      <td>1.0</td>\n      <td>0.0</td>\n      <td>0.0</td>\n    </tr>\n    <tr>\n      <th>8</th>\n      <td>00009628_004.png</td>\n      <td>1.0</td>\n      <td>0.0</td>\n      <td>0.0</td>\n    </tr>\n    <tr>\n      <th>9</th>\n      <td>00010007_121.png</td>\n      <td>1.0</td>\n      <td>0.0</td>\n      <td>0.0</td>\n    </tr>\n  </tbody>\n</table>\n</div>"
     },
     "metadata": {},
     "execution_count": 6
    }
   ],
   "source": [
    "bad_images = pd.read_csv(\"dataset/cxr14_bad_labels.csv\").drop([\"Index\"], axis=1)\n",
    "print(f\"Total bad images: {len(bad_images)}\")\n",
    "bad_images.head(10)"
   ]
  },
  {
   "cell_type": "markdown",
   "metadata": {},
   "source": [
    "### Patient ID\n",
    "There are several patients with multiple scans and these need to be taken into account when training the model. Additionally, with some patients that have multiple scans, there are different findings between each scan. This knowledge might be useful in training."
   ]
  },
  {
   "cell_type": "code",
   "execution_count": 7,
   "metadata": {},
   "outputs": [
    {
     "output_type": "stream",
     "name": "stdout",
     "text": [
      "Total number of patients: 30802\n"
     ]
    }
   ],
   "source": [
    "print(f\"\"\"Total number of patients: {len(pd.unique(clean_data[\"Patient ID\"]))}\"\"\")"
   ]
  },
  {
   "cell_type": "markdown",
   "metadata": {},
   "source": [
    "### Follow-up ID\n",
    "Not sure what this corresponds to and may not be a useful column. Will need to investigate further and determine its usefulness/meaning."
   ]
  },
  {
   "cell_type": "markdown",
   "metadata": {},
   "source": [
    "### Missing Data\n",
    "Fortunately, there is no missing data in any of the columns, so no imputation or drops need to be done to account for this"
   ]
  },
  {
   "cell_type": "code",
   "execution_count": 8,
   "metadata": {},
   "outputs": [
    {
     "output_type": "execute_result",
     "data": {
      "text/plain": [
       "Image Index       0\n",
       "Finding Labels    0\n",
       "Follow-up #       0\n",
       "Patient ID        0\n",
       "Patient Age       0\n",
       "Patient Gender    0\n",
       "View Position     0\n",
       "Image Width       0\n",
       "Image Height      0\n",
       "Spacing X         0\n",
       "Spacing Y         0\n",
       "dtype: int64"
      ]
     },
     "metadata": {},
     "execution_count": 8
    }
   ],
   "source": [
    "clean_data.isna().sum()"
   ]
  },
  {
   "cell_type": "markdown",
   "metadata": {},
   "source": [
    "### Gender\n",
    "Might be better to relabel as \"sex\". The following is an example to get the count for a column, using this label."
   ]
  },
  {
   "cell_type": "code",
   "execution_count": 9,
   "metadata": {},
   "outputs": [
    {
     "output_type": "execute_result",
     "data": {
      "text/plain": [
       "M    63328\n",
       "F    48776\n",
       "Name: Patient Gender, dtype: int64"
      ]
     },
     "metadata": {},
     "execution_count": 9
    }
   ],
   "source": [
    "clean_data[\"Patient Gender\"].value_counts()"
   ]
  },
  {
   "cell_type": "markdown",
   "metadata": {},
   "source": [
    "## Use of data/model\n",
    "The predictability model created by analyzing the data can be used to find the probability that a given scan is likely to have \"No Finding\" and get data back in real time without need for immediate human verification. IE if the model detects with a probability >85% that there is no finding, it can be de-prioritized in a queue of scans that need review. This would require a model that is trained to find a boolean of finding vs no finding.\n",
    "\n",
    "Additionally, the data can be used for prioritizing particular findings that require further classification, more information, etc.\n",
    "\n",
    "The `sklearn` library has a `predict_proba()` method that can be used to determine the probability that a specific prediction falls within a certain probability range."
   ]
  },
  {
   "source": [
    "# Hyperparameter metrics tuning\n",
    "The hyperparameters can be tuned to favor different metrics for accuracy, recall, precision, etc. These can be a good additional visualization for the model and can be provided as a choice for the web service, allowing the end user to select the specific model that works for their problem definition. IE if they want to favor a model that has very high accuracy and can sacrifice some precision, they can choose to work with those hyperparameters on their input data."
   ],
   "cell_type": "markdown",
   "metadata": {}
  }
 ],
 "metadata": {
  "kernelspec": {
   "display_name": "Python 3",
   "language": "python",
   "name": "python3"
  },
  "language_info": {
   "codemirror_mode": {
    "name": "ipython",
    "version": 3
   },
   "file_extension": ".py",
   "mimetype": "text/x-python",
   "name": "python",
   "nbconvert_exporter": "python",
   "pygments_lexer": "ipython3",
   "version": "3.8.3-final"
  }
 },
 "nbformat": 4,
 "nbformat_minor": 4
}