{
 "metadata": {
  "language_info": {
   "codemirror_mode": {
    "name": "ipython",
    "version": 3
   },
   "file_extension": ".py",
   "mimetype": "text/x-python",
   "name": "python",
   "nbconvert_exporter": "python",
   "pygments_lexer": "ipython3",
   "version": "3.7.9-final"
  },
  "orig_nbformat": 2,
  "kernelspec": {
   "name": "python3",
   "display_name": "Python 3"
  }
 },
 "nbformat": 4,
 "nbformat_minor": 2,
 "cells": [
  {
   "cell_type": "code",
   "execution_count": 1,
   "metadata": {},
   "outputs": [
    {
     "output_type": "stream",
     "name": "stdout",
     "text": [
      "TensorFlow version: 2.3.0\nTensorFlow Hub version: 0.8.0\nGPU is avaible for training.\nTotal GPUs: 1\n"
     ]
    }
   ],
   "source": [
    "import numpy as np\n",
    "import pandas as pd\n",
    "import tensorflow as tf\n",
    "import tensorflow_hub as tfhub\n",
    "\n",
    "print(f\"TensorFlow version: {tf.__version__}\")\n",
    "print(f\"TensorFlow Hub version: {tfhub.__version__}\")\n",
    "gpu_data = tf.config.list_physical_devices(\"GPU\")\n",
    "if gpu_data:\n",
    "    print(f\"GPU is avaible for training.\\nTotal GPUs: {len(gpu_data)}\")\n",
    "else:\n",
    "    print(\"WARNING: GPU is not available for training!\")"
   ]
  },
  {
   "cell_type": "code",
   "execution_count": 2,
   "metadata": {},
   "outputs": [
    {
     "output_type": "stream",
     "name": "stdout",
     "text": [
      "Total usable images: 111847\nTotal diagnostic labels imported: 15\n"
     ]
    },
    {
     "output_type": "execute_result",
     "data": {
      "text/plain": [
       "               pt_id         pt_age      img_width     img_height  \\\n",
       "count  111847.000000  111847.000000  111847.000000  111847.000000   \n",
       "mean    14352.069854      46.873729    2646.817215    2486.516482   \n",
       "std      8404.640184      16.593094     340.900387     401.416234   \n",
       "min         1.000000       1.000000    1143.000000     966.000000   \n",
       "25%      7317.000000      35.000000    2500.000000    2048.000000   \n",
       "50%     13995.000000      49.000000    2520.000000    2544.000000   \n",
       "75%     20673.000000      59.000000    2992.000000    2991.000000   \n",
       "max     30805.000000      95.000000    3827.000000    3567.000000   \n",
       "\n",
       "           x_spacing      y_spacing  emphysema    hernia  pleural_thickening  \\\n",
       "count  111847.000000  111847.000000   111847.0  111847.0            111847.0   \n",
       "mean        0.155634       0.155634        0.0       0.0                 0.0   \n",
       "std         0.016178       0.016178        0.0       0.0                 0.0   \n",
       "min         0.115000       0.115000        0.0       0.0                 0.0   \n",
       "25%         0.143000       0.143000        0.0       0.0                 0.0   \n",
       "50%         0.143000       0.143000        0.0       0.0                 0.0   \n",
       "75%         0.168000       0.168000        0.0       0.0                 0.0   \n",
       "max         0.198800       0.198800        0.0       0.0                 0.0   \n",
       "\n",
       "          edema  ...  atelectasis  fibrosis    nodule  effusion  pneumothorax  \\\n",
       "count  111847.0  ...     111847.0  111847.0  111847.0  111847.0      111847.0   \n",
       "mean        0.0  ...          0.0       0.0       0.0       0.0           0.0   \n",
       "std         0.0  ...          0.0       0.0       0.0       0.0           0.0   \n",
       "min         0.0  ...          0.0       0.0       0.0       0.0           0.0   \n",
       "25%         0.0  ...          0.0       0.0       0.0       0.0           0.0   \n",
       "50%         0.0  ...          0.0       0.0       0.0       0.0           0.0   \n",
       "75%         0.0  ...          0.0       0.0       0.0       0.0           0.0   \n",
       "max         0.0  ...          0.0       0.0       0.0       0.0           0.0   \n",
       "\n",
       "       infiltration      mass  no_finding  consolidation  pneumonia  \n",
       "count      111847.0  111847.0    111847.0       111847.0   111847.0  \n",
       "mean            0.0       0.0         0.0            0.0        0.0  \n",
       "std             0.0       0.0         0.0            0.0        0.0  \n",
       "min             0.0       0.0         0.0            0.0        0.0  \n",
       "25%             0.0       0.0         0.0            0.0        0.0  \n",
       "50%             0.0       0.0         0.0            0.0        0.0  \n",
       "75%             0.0       0.0         0.0            0.0        0.0  \n",
       "max             0.0       0.0         0.0            0.0        0.0  \n",
       "\n",
       "[8 rows x 21 columns]"
      ],
      "text/html": "<div>\n<style scoped>\n    .dataframe tbody tr th:only-of-type {\n        vertical-align: middle;\n    }\n\n    .dataframe tbody tr th {\n        vertical-align: top;\n    }\n\n    .dataframe thead th {\n        text-align: right;\n    }\n</style>\n<table border=\"1\" class=\"dataframe\">\n  <thead>\n    <tr style=\"text-align: right;\">\n      <th></th>\n      <th>pt_id</th>\n      <th>pt_age</th>\n      <th>img_width</th>\n      <th>img_height</th>\n      <th>x_spacing</th>\n      <th>y_spacing</th>\n      <th>emphysema</th>\n      <th>hernia</th>\n      <th>pleural_thickening</th>\n      <th>edema</th>\n      <th>...</th>\n      <th>atelectasis</th>\n      <th>fibrosis</th>\n      <th>nodule</th>\n      <th>effusion</th>\n      <th>pneumothorax</th>\n      <th>infiltration</th>\n      <th>mass</th>\n      <th>no_finding</th>\n      <th>consolidation</th>\n      <th>pneumonia</th>\n    </tr>\n  </thead>\n  <tbody>\n    <tr>\n      <th>count</th>\n      <td>111847.000000</td>\n      <td>111847.000000</td>\n      <td>111847.000000</td>\n      <td>111847.000000</td>\n      <td>111847.000000</td>\n      <td>111847.000000</td>\n      <td>111847.0</td>\n      <td>111847.0</td>\n      <td>111847.0</td>\n      <td>111847.0</td>\n      <td>...</td>\n      <td>111847.0</td>\n      <td>111847.0</td>\n      <td>111847.0</td>\n      <td>111847.0</td>\n      <td>111847.0</td>\n      <td>111847.0</td>\n      <td>111847.0</td>\n      <td>111847.0</td>\n      <td>111847.0</td>\n      <td>111847.0</td>\n    </tr>\n    <tr>\n      <th>mean</th>\n      <td>14352.069854</td>\n      <td>46.873729</td>\n      <td>2646.817215</td>\n      <td>2486.516482</td>\n      <td>0.155634</td>\n      <td>0.155634</td>\n      <td>0.0</td>\n      <td>0.0</td>\n      <td>0.0</td>\n      <td>0.0</td>\n      <td>...</td>\n      <td>0.0</td>\n      <td>0.0</td>\n      <td>0.0</td>\n      <td>0.0</td>\n      <td>0.0</td>\n      <td>0.0</td>\n      <td>0.0</td>\n      <td>0.0</td>\n      <td>0.0</td>\n      <td>0.0</td>\n    </tr>\n    <tr>\n      <th>std</th>\n      <td>8404.640184</td>\n      <td>16.593094</td>\n      <td>340.900387</td>\n      <td>401.416234</td>\n      <td>0.016178</td>\n      <td>0.016178</td>\n      <td>0.0</td>\n      <td>0.0</td>\n      <td>0.0</td>\n      <td>0.0</td>\n      <td>...</td>\n      <td>0.0</td>\n      <td>0.0</td>\n      <td>0.0</td>\n      <td>0.0</td>\n      <td>0.0</td>\n      <td>0.0</td>\n      <td>0.0</td>\n      <td>0.0</td>\n      <td>0.0</td>\n      <td>0.0</td>\n    </tr>\n    <tr>\n      <th>min</th>\n      <td>1.000000</td>\n      <td>1.000000</td>\n      <td>1143.000000</td>\n      <td>966.000000</td>\n      <td>0.115000</td>\n      <td>0.115000</td>\n      <td>0.0</td>\n      <td>0.0</td>\n      <td>0.0</td>\n      <td>0.0</td>\n      <td>...</td>\n      <td>0.0</td>\n      <td>0.0</td>\n      <td>0.0</td>\n      <td>0.0</td>\n      <td>0.0</td>\n      <td>0.0</td>\n      <td>0.0</td>\n      <td>0.0</td>\n      <td>0.0</td>\n      <td>0.0</td>\n    </tr>\n    <tr>\n      <th>25%</th>\n      <td>7317.000000</td>\n      <td>35.000000</td>\n      <td>2500.000000</td>\n      <td>2048.000000</td>\n      <td>0.143000</td>\n      <td>0.143000</td>\n      <td>0.0</td>\n      <td>0.0</td>\n      <td>0.0</td>\n      <td>0.0</td>\n      <td>...</td>\n      <td>0.0</td>\n      <td>0.0</td>\n      <td>0.0</td>\n      <td>0.0</td>\n      <td>0.0</td>\n      <td>0.0</td>\n      <td>0.0</td>\n      <td>0.0</td>\n      <td>0.0</td>\n      <td>0.0</td>\n    </tr>\n    <tr>\n      <th>50%</th>\n      <td>13995.000000</td>\n      <td>49.000000</td>\n      <td>2520.000000</td>\n      <td>2544.000000</td>\n      <td>0.143000</td>\n      <td>0.143000</td>\n      <td>0.0</td>\n      <td>0.0</td>\n      <td>0.0</td>\n      <td>0.0</td>\n      <td>...</td>\n      <td>0.0</td>\n      <td>0.0</td>\n      <td>0.0</td>\n      <td>0.0</td>\n      <td>0.0</td>\n      <td>0.0</td>\n      <td>0.0</td>\n      <td>0.0</td>\n      <td>0.0</td>\n      <td>0.0</td>\n    </tr>\n    <tr>\n      <th>75%</th>\n      <td>20673.000000</td>\n      <td>59.000000</td>\n      <td>2992.000000</td>\n      <td>2991.000000</td>\n      <td>0.168000</td>\n      <td>0.168000</td>\n      <td>0.0</td>\n      <td>0.0</td>\n      <td>0.0</td>\n      <td>0.0</td>\n      <td>...</td>\n      <td>0.0</td>\n      <td>0.0</td>\n      <td>0.0</td>\n      <td>0.0</td>\n      <td>0.0</td>\n      <td>0.0</td>\n      <td>0.0</td>\n      <td>0.0</td>\n      <td>0.0</td>\n      <td>0.0</td>\n    </tr>\n    <tr>\n      <th>max</th>\n      <td>30805.000000</td>\n      <td>95.000000</td>\n      <td>3827.000000</td>\n      <td>3567.000000</td>\n      <td>0.198800</td>\n      <td>0.198800</td>\n      <td>0.0</td>\n      <td>0.0</td>\n      <td>0.0</td>\n      <td>0.0</td>\n      <td>...</td>\n      <td>0.0</td>\n      <td>0.0</td>\n      <td>0.0</td>\n      <td>0.0</td>\n      <td>0.0</td>\n      <td>0.0</td>\n      <td>0.0</td>\n      <td>0.0</td>\n      <td>0.0</td>\n      <td>0.0</td>\n    </tr>\n  </tbody>\n</table>\n<p>8 rows × 21 columns</p>\n</div>"
     },
     "metadata": {},
     "execution_count": 2
    }
   ],
   "source": [
    "# Load meta data, labels\n",
    "DATA_LOC = \"../dataset/\"\n",
    "img_metadata = pd.read_csv(DATA_LOC + \"usable_img_metadata.csv\")\n",
    "print(f\"Total usable images: {len(img_metadata)}\")\n",
    "dx_labels = pd.read_csv(DATA_LOC + \"dx_labels.csv\")\n",
    "print(f\"Total diagnostic labels imported: {len(dx_labels)}\")\n",
    "img_metadata.describe()"
   ]
  },
  {
   "cell_type": "code",
   "execution_count": null,
   "metadata": {},
   "outputs": [],
   "source": []
  }
 ]
}